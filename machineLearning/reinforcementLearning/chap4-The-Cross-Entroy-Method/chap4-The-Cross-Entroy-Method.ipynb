{
 "cells": [
  {
   "cell_type": "markdown",
   "metadata": {},
   "source": [
    "# chap4-The-Cross-Entroy-Method\n",
    "\n",
    "关于cross-entropy方法有以下两个特点：\n",
    "* 简单，利用pytorch实现的代码行数不超过100行\n",
    "* 这种方法具有很好的收敛性。对于简单的环境中，不需要复杂，多步骤的策略来学习和探索，在较短的周期内就可以获得频繁的反馈，cross-entropy方法通常效果比较好。"
   ]
  },
  {
   "cell_type": "markdown",
   "metadata": {},
   "source": [
    "## The taxonomy of RL methods\n",
    "\n",
    "cross-entropy 方法是免模型(model-free)和基于政策(policy-based)的方法。\n",
    "\n",
    "* 免模型：意味着这种方法不会建立一个关于环境和奖励的模型，而是直接对现存的观测进行计算得到需要采取的动作。\n",
    "* 基于策略：基于策略的方法可以近似看作是代理的策略，即代理在每一步应该执行什么操作，策略可以用操作的概念分布表示\n",
    "\n",
    "所以cross-entropy方法是model-free，policy-based和on-policy的方法：\n",
    "* 不需要构建环境模型，直接告诉代理如何在下一步采取动作\n",
    "* 近似代理的策略\n",
    "* 需要从环境中获取数据"
   ]
  },
  {
   "cell_type": "markdown",
   "metadata": {},
   "source": [
    "## The cross-entropy method in pratice\n",
    "\n"
   ]
  },
  {
   "cell_type": "markdown",
   "metadata": {},
   "source": []
  }
 ],
 "metadata": {
  "interpreter": {
   "hash": "c08bec6e8349631744bf8012680f4ed9f87ad05429dee36fcc42750dcdea16a4"
  },
  "kernelspec": {
   "display_name": "Python 3.7.11 ('rlbook')",
   "language": "python",
   "name": "python3"
  },
  "language_info": {
   "name": "python",
   "version": "3.7.11"
  },
  "orig_nbformat": 4
 },
 "nbformat": 4,
 "nbformat_minor": 2
}
