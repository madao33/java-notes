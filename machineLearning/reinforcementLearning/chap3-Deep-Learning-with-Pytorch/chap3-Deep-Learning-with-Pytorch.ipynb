{
 "cells": [
  {
   "cell_type": "markdown",
   "metadata": {},
   "source": [
    "# Chap3 Deep Learning with Pytorch"
   ]
  },
  {
   "cell_type": "markdown",
   "metadata": {},
   "source": [
    "## Tensors"
   ]
  },
  {
   "cell_type": "markdown",
   "metadata": {},
   "source": [
    "### The creation of tensors"
   ]
  },
  {
   "cell_type": "code",
   "execution_count": 1,
   "metadata": {},
   "outputs": [],
   "source": [
    "import torch\n",
    "import numpy as np"
   ]
  },
  {
   "cell_type": "code",
   "execution_count": 2,
   "metadata": {},
   "outputs": [
    {
     "data": {
      "text/plain": [
       "tensor([[1.3563e-19, 1.3563e-19],\n",
       "        [4.5071e+16, 2.4757e-12],\n",
       "        [4.1638e-11, 8.1546e-33]])"
      ]
     },
     "execution_count": 2,
     "metadata": {},
     "output_type": "execute_result"
    }
   ],
   "source": [
    "a = torch.FloatTensor(3, 2)\n",
    "a"
   ]
  },
  {
   "cell_type": "code",
   "execution_count": 3,
   "metadata": {},
   "outputs": [
    {
     "data": {
      "text/plain": [
       "tensor([[0., 0.],\n",
       "        [0., 0.],\n",
       "        [0., 0.]])"
      ]
     },
     "execution_count": 3,
     "metadata": {},
     "output_type": "execute_result"
    }
   ],
   "source": [
    "a.zero_()"
   ]
  },
  {
   "cell_type": "markdown",
   "metadata": {},
   "source": [
    "### GPU tensors"
   ]
  },
  {
   "cell_type": "code",
   "execution_count": 4,
   "metadata": {},
   "outputs": [
    {
     "data": {
      "text/plain": [
       "tensor([2., 3.])"
      ]
     },
     "execution_count": 4,
     "metadata": {},
     "output_type": "execute_result"
    }
   ],
   "source": [
    "a = torch.FloatTensor([2, 3])\n",
    "a"
   ]
  },
  {
   "cell_type": "code",
   "execution_count": 5,
   "metadata": {},
   "outputs": [
    {
     "data": {
      "text/plain": [
       "tensor([2., 3.], device='cuda:0')"
      ]
     },
     "execution_count": 5,
     "metadata": {},
     "output_type": "execute_result"
    }
   ],
   "source": [
    "ca = a.to('cuda')\n",
    "ca"
   ]
  },
  {
   "cell_type": "code",
   "execution_count": 6,
   "metadata": {},
   "outputs": [
    {
     "data": {
      "text/plain": [
       "tensor([3., 4.])"
      ]
     },
     "execution_count": 6,
     "metadata": {},
     "output_type": "execute_result"
    }
   ],
   "source": [
    "a + 1"
   ]
  },
  {
   "cell_type": "code",
   "execution_count": 7,
   "metadata": {},
   "outputs": [
    {
     "data": {
      "text/plain": [
       "tensor([3., 4.], device='cuda:0')"
      ]
     },
     "execution_count": 7,
     "metadata": {},
     "output_type": "execute_result"
    }
   ],
   "source": [
    "ca + 1"
   ]
  },
  {
   "cell_type": "code",
   "execution_count": 8,
   "metadata": {},
   "outputs": [
    {
     "data": {
      "text/plain": [
       "device(type='cuda', index=0)"
      ]
     },
     "execution_count": 8,
     "metadata": {},
     "output_type": "execute_result"
    }
   ],
   "source": [
    "ca.device"
   ]
  },
  {
   "cell_type": "markdown",
   "metadata": {},
   "source": [
    "### Gradients"
   ]
  },
  {
   "cell_type": "code",
   "execution_count": 9,
   "metadata": {},
   "outputs": [],
   "source": [
    "v1 = torch.tensor([1.0, 1.0], requires_grad = True)\n",
    "v2 = torch.tensor([2.0, 2.0])"
   ]
  },
  {
   "cell_type": "code",
   "execution_count": 10,
   "metadata": {},
   "outputs": [
    {
     "data": {
      "text/plain": [
       "tensor(12., grad_fn=<SumBackward0>)"
      ]
     },
     "execution_count": 10,
     "metadata": {},
     "output_type": "execute_result"
    }
   ],
   "source": [
    "v_sum = v1 + v2\n",
    "v_res = (v_sum * 2).sum()\n",
    "v_res"
   ]
  },
  {
   "cell_type": "code",
   "execution_count": 11,
   "metadata": {},
   "outputs": [
    {
     "data": {
      "text/plain": [
       "(True, True)"
      ]
     },
     "execution_count": 11,
     "metadata": {},
     "output_type": "execute_result"
    }
   ],
   "source": [
    "v1.is_leaf, v2.is_leaf"
   ]
  },
  {
   "cell_type": "code",
   "execution_count": 12,
   "metadata": {},
   "outputs": [
    {
     "data": {
      "text/plain": [
       "(False, False)"
      ]
     },
     "execution_count": 12,
     "metadata": {},
     "output_type": "execute_result"
    }
   ],
   "source": [
    "v_sum.is_leaf, v_res.is_leaf"
   ]
  },
  {
   "cell_type": "code",
   "execution_count": 13,
   "metadata": {},
   "outputs": [
    {
     "data": {
      "text/plain": [
       "True"
      ]
     },
     "execution_count": 13,
     "metadata": {},
     "output_type": "execute_result"
    }
   ],
   "source": [
    "v1.requires_grad"
   ]
  },
  {
   "cell_type": "code",
   "execution_count": 14,
   "metadata": {},
   "outputs": [
    {
     "data": {
      "text/plain": [
       "False"
      ]
     },
     "execution_count": 14,
     "metadata": {},
     "output_type": "execute_result"
    }
   ],
   "source": [
    "v2.requires_grad"
   ]
  },
  {
   "cell_type": "code",
   "execution_count": 15,
   "metadata": {},
   "outputs": [
    {
     "data": {
      "text/plain": [
       "True"
      ]
     },
     "execution_count": 15,
     "metadata": {},
     "output_type": "execute_result"
    }
   ],
   "source": [
    "v_sum.requires_grad"
   ]
  },
  {
   "cell_type": "code",
   "execution_count": 16,
   "metadata": {},
   "outputs": [
    {
     "data": {
      "text/plain": [
       "True"
      ]
     },
     "execution_count": 16,
     "metadata": {},
     "output_type": "execute_result"
    }
   ],
   "source": [
    "v_res.requires_grad"
   ]
  },
  {
   "cell_type": "code",
   "execution_count": 17,
   "metadata": {},
   "outputs": [
    {
     "data": {
      "text/plain": [
       "tensor([2., 2.])"
      ]
     },
     "execution_count": 17,
     "metadata": {},
     "output_type": "execute_result"
    }
   ],
   "source": [
    "v_res.backward()\n",
    "v1.grad"
   ]
  },
  {
   "cell_type": "code",
   "execution_count": 18,
   "metadata": {},
   "outputs": [],
   "source": [
    "v2.grad"
   ]
  },
  {
   "cell_type": "markdown",
   "metadata": {},
   "source": [
    "## NN building blocks"
   ]
  },
  {
   "cell_type": "code",
   "execution_count": 19,
   "metadata": {},
   "outputs": [],
   "source": [
    "import torch.nn as nn"
   ]
  },
  {
   "cell_type": "code",
   "execution_count": 20,
   "metadata": {},
   "outputs": [
    {
     "data": {
      "text/plain": [
       "tensor([-1.0770, -0.2403, -0.5600, -0.8485,  1.9401], grad_fn=<AddBackward0>)"
      ]
     },
     "execution_count": 20,
     "metadata": {},
     "output_type": "execute_result"
    }
   ],
   "source": [
    "l = nn.Linear(2, 5)\n",
    "v = torch.FloatTensor([1, 2])\n",
    "l(v)"
   ]
  },
  {
   "cell_type": "code",
   "execution_count": 21,
   "metadata": {},
   "outputs": [
    {
     "data": {
      "text/plain": [
       "Sequential(\n",
       "  (0): Linear(in_features=2, out_features=5, bias=True)\n",
       "  (1): ReLU()\n",
       "  (2): Linear(in_features=5, out_features=20, bias=True)\n",
       "  (3): ReLU()\n",
       "  (4): Linear(in_features=20, out_features=10, bias=True)\n",
       "  (5): Dropout(p=0.3, inplace=False)\n",
       "  (6): Softmax(dim=1)\n",
       ")"
      ]
     },
     "execution_count": 21,
     "metadata": {},
     "output_type": "execute_result"
    }
   ],
   "source": [
    "s = nn.Sequential(\n",
    "    nn.Linear(2, 5),\n",
    "    nn.ReLU(),\n",
    "    nn.Linear(5, 20),\n",
    "    nn.ReLU(),\n",
    "    nn.Linear(20, 10),\n",
    "    nn.Dropout(p=0.3),\n",
    "    nn.Softmax(dim=1)\n",
    ")\n",
    "s"
   ]
  },
  {
   "cell_type": "code",
   "execution_count": 22,
   "metadata": {},
   "outputs": [
    {
     "data": {
      "text/plain": [
       "tensor([[0.0920, 0.0920, 0.1372, 0.1307, 0.0988, 0.0818, 0.0920, 0.0920, 0.0920,\n",
       "         0.0916]], grad_fn=<SoftmaxBackward>)"
      ]
     },
     "execution_count": 22,
     "metadata": {},
     "output_type": "execute_result"
    }
   ],
   "source": [
    "s(torch.FloatTensor([[1, 2]]))"
   ]
  },
  {
   "cell_type": "markdown",
   "metadata": {},
   "source": [
    "## Custom layers"
   ]
  },
  {
   "cell_type": "code",
   "execution_count": 23,
   "metadata": {},
   "outputs": [],
   "source": [
    "class OurModule(nn.Module):\n",
    "    def __init__(self, num_inputs, num_classes, dropout_prob=0.3):\n",
    "        super(OurModule, self).__init__()\n",
    "        self.pipe = nn.Sequential(\n",
    "            nn.Linear(num_inputs, 5),\n",
    "            nn.ReLU(),\n",
    "            nn.Linear(5, 20),\n",
    "            nn.ReLU(),\n",
    "            nn.Linear(20, num_classes),\n",
    "            nn.Dropout(p=dropout_prob),\n",
    "            nn.Softmax(dim=1)\n",
    "        )\n",
    "\n",
    "    def forward(self, x):\n",
    "        return self.pipe(x)"
   ]
  },
  {
   "cell_type": "code",
   "execution_count": 24,
   "metadata": {},
   "outputs": [
    {
     "name": "stdout",
     "output_type": "stream",
     "text": [
      "OurModule(\n",
      "  (pipe): Sequential(\n",
      "    (0): Linear(in_features=2, out_features=5, bias=True)\n",
      "    (1): ReLU()\n",
      "    (2): Linear(in_features=5, out_features=20, bias=True)\n",
      "    (3): ReLU()\n",
      "    (4): Linear(in_features=20, out_features=3, bias=True)\n",
      "    (5): Dropout(p=0.3, inplace=False)\n",
      "    (6): Softmax(dim=1)\n",
      "  )\n",
      ")\n",
      "tensor([[0.2225, 0.3324, 0.4451]], grad_fn=<SoftmaxBackward>)\n",
      "Data from cuda: tensor([[0.2225, 0.3324, 0.4451]], device='cuda:0', grad_fn=<CopyBackwards>)\n"
     ]
    }
   ],
   "source": [
    "net = OurModule(num_inputs=2, num_classes=3)\n",
    "v = torch.FloatTensor([[2, 3]])\n",
    "out = net(v)\n",
    "print(net)\n",
    "print(out)\n",
    "if torch.cuda.is_available():\n",
    "    print(\"Data from cuda: %s\" % out.to('cuda'))"
   ]
  },
  {
   "cell_type": "markdown",
   "metadata": {},
   "source": [
    "## Monitoring with TensorBoard"
   ]
  },
  {
   "cell_type": "markdown",
   "metadata": {},
   "source": [
    "## Plotting stuff"
   ]
  },
  {
   "cell_type": "code",
   "execution_count": 25,
   "metadata": {},
   "outputs": [],
   "source": [
    "import math\n",
    "from tensorboardX import SummaryWriter\n",
    "writer = SummaryWriter()\n",
    "funcs = {\"sim\" : math.sin, \"cos\" : math.cos, \"tan\" : math.tan}"
   ]
  },
  {
   "cell_type": "code",
   "execution_count": 26,
   "metadata": {},
   "outputs": [],
   "source": [
    "for angle in range(-360, 360):\n",
    "    angle_rad = angle * math.pi / 180\n",
    "    for name, fun in funcs.items():\n",
    "        val = fun(angle_rad)\n",
    "        writer.add_scalar(name, val, angle)\n",
    "\n",
    "writer.close()"
   ]
  },
  {
   "cell_type": "markdown",
   "metadata": {},
   "source": [
    "## Example - GAN on Atari images"
   ]
  },
  {
   "cell_type": "code",
   "execution_count": 27,
   "metadata": {},
   "outputs": [],
   "source": [
    "import random\n",
    "import argparse\n",
    "import cv2\n",
    "\n",
    "import torch\n",
    "import torch.nn as nn\n",
    "import torch.optim as optim\n",
    "from tensorboardX import SummaryWriter\n",
    "\n",
    "import torchvision.utils as vutils\n",
    "\n",
    "import gym\n",
    "import gym.spaces\n",
    "\n",
    "import numpy as np"
   ]
  },
  {
   "cell_type": "code",
   "execution_count": 28,
   "metadata": {},
   "outputs": [],
   "source": [
    "class InputWrapper(gym.ObservationWrapper):\n",
    "    \"\"\"\n",
    "    Preprocessing of input numpy array:\n",
    "    1. resize image into predefined size\n",
    "    2. move color channel axis to a first place\n",
    "    \"\"\"\n",
    "    def __init__(self, *args):\n",
    "        super(InputWrapper, self).__init__(*args)\n",
    "        assert isinstance(self.observation_space, gym.spaces.Box)\n",
    "        old_space = self.observation_space\n",
    "        self.observation_space = gym.spaces.Box(\n",
    "            self.observation(old_space.low),\n",
    "            self.observation(old_space.high),\n",
    "            dtype=np.float32)\n",
    "\n",
    "    def observation(self, observation):\n",
    "        # resize image\n",
    "        new_obs = cv2.resize(\n",
    "            observation, (IMAGE_SIZE, IMAGE_SIZE))\n",
    "        # transform (210, 160, 3) -> (3, 210, 160)\n",
    "        new_obs = np.moveaxis(new_obs, 2, 0)\n",
    "        return new_obs.astype(np.float32)"
   ]
  },
  {
   "cell_type": "code",
   "execution_count": 29,
   "metadata": {},
   "outputs": [],
   "source": [
    "class Discriminator(nn.Module):\n",
    "    def __init__(self, input_shape):\n",
    "        super(Discriminator, self).__init__()\n",
    "        # this pipe converges image into the single number\n",
    "        self.conv_pipe = nn.Sequential(\n",
    "            nn.Conv2d(in_channels=input_shape[0], out_channels=DISCR_FILTERS,\n",
    "                      kernel_size=4, stride=2, padding=1),\n",
    "            nn.ReLU(),\n",
    "            nn.Conv2d(in_channels=DISCR_FILTERS, out_channels=DISCR_FILTERS*2,\n",
    "                      kernel_size=4, stride=2, padding=1),\n",
    "            nn.BatchNorm2d(DISCR_FILTERS*2),\n",
    "            nn.ReLU(),\n",
    "            nn.Conv2d(in_channels=DISCR_FILTERS * 2, out_channels=DISCR_FILTERS * 4,\n",
    "                      kernel_size=4, stride=2, padding=1),\n",
    "            nn.BatchNorm2d(DISCR_FILTERS * 4),\n",
    "            nn.ReLU(),\n",
    "            nn.Conv2d(in_channels=DISCR_FILTERS * 4, out_channels=DISCR_FILTERS * 8,\n",
    "                      kernel_size=4, stride=2, padding=1),\n",
    "            nn.BatchNorm2d(DISCR_FILTERS * 8),\n",
    "            nn.ReLU(),\n",
    "            nn.Conv2d(in_channels=DISCR_FILTERS * 8, out_channels=1,\n",
    "                      kernel_size=4, stride=1, padding=0),\n",
    "            nn.Sigmoid()\n",
    "        )\n",
    "\n",
    "    def forward(self, x):\n",
    "        conv_out = self.conv_pipe(x)\n",
    "        return conv_out.view(-1, 1).squeeze(dim=1)"
   ]
  },
  {
   "cell_type": "code",
   "execution_count": 30,
   "metadata": {},
   "outputs": [],
   "source": [
    "class Generator(nn.Module):\n",
    "    def __init__(self, output_shape):\n",
    "        super(Generator, self).__init__()\n",
    "        # pipe deconvolves input vector into (3, 64, 64) image\n",
    "        self.pipe = nn.Sequential(\n",
    "            nn.ConvTranspose2d(in_channels=LATENT_VECTOR_SIZE, out_channels=GENER_FILTERS * 8,\n",
    "                               kernel_size=4, stride=1, padding=0),\n",
    "            nn.BatchNorm2d(GENER_FILTERS * 8),\n",
    "            nn.ReLU(),\n",
    "            nn.ConvTranspose2d(in_channels=GENER_FILTERS * 8, out_channels=GENER_FILTERS * 4,\n",
    "                               kernel_size=4, stride=2, padding=1),\n",
    "            nn.BatchNorm2d(GENER_FILTERS * 4),\n",
    "            nn.ReLU(),\n",
    "            nn.ConvTranspose2d(in_channels=GENER_FILTERS * 4, out_channels=GENER_FILTERS * 2,\n",
    "                               kernel_size=4, stride=2, padding=1),\n",
    "            nn.BatchNorm2d(GENER_FILTERS * 2),\n",
    "            nn.ReLU(),\n",
    "            nn.ConvTranspose2d(in_channels=GENER_FILTERS * 2, out_channels=GENER_FILTERS,\n",
    "                               kernel_size=4, stride=2, padding=1),\n",
    "            nn.BatchNorm2d(GENER_FILTERS),\n",
    "            nn.ReLU(),\n",
    "            nn.ConvTranspose2d(in_channels=GENER_FILTERS, out_channels=output_shape[0],\n",
    "                               kernel_size=4, stride=2, padding=1),\n",
    "            nn.Tanh()\n",
    "        )\n",
    "\n",
    "    def forward(self, x):\n",
    "        return self.pipe(x)"
   ]
  },
  {
   "cell_type": "code",
   "execution_count": 31,
   "metadata": {},
   "outputs": [],
   "source": [
    "log = gym.logger\n",
    "log.set_level(gym.logger.INFO)\n",
    "\n",
    "LATENT_VECTOR_SIZE = 100\n",
    "DISCR_FILTERS = 64\n",
    "GENER_FILTERS = 64\n",
    "BATCH_SIZE = 16\n",
    "\n",
    "# dimension input image will be rescaled\n",
    "IMAGE_SIZE = 64\n",
    "\n",
    "LEARNING_RATE = 0.0001\n",
    "REPORT_EVERY_ITER = 100\n",
    "SAVE_IMAGE_EVERY_ITER = 1000"
   ]
  },
  {
   "cell_type": "code",
   "execution_count": 32,
   "metadata": {},
   "outputs": [],
   "source": [
    "def iterate_batches(envs, batch_size=BATCH_SIZE):\n",
    "    batch = [e.reset() for e in envs]\n",
    "    env_gen = iter(lambda: random.choice(envs), None)\n",
    "\n",
    "    while True:\n",
    "        e = next(env_gen)\n",
    "        obs, reward, is_done, _ = e.step(e.action_space.sample())\n",
    "        if np.mean(obs) > 0.01:\n",
    "            batch.append(obs)\n",
    "        if len(batch) == batch_size:\n",
    "            # Normalising input between -1 to 1\n",
    "            batch_np = np.array(batch, dtype=np.float32) * 2.0 / 255.0 - 1.0\n",
    "            yield torch.tensor(batch_np)\n",
    "            batch.clear()\n",
    "        if is_done:\n",
    "            e.reset()"
   ]
  },
  {
   "cell_type": "code",
   "execution_count": 34,
   "metadata": {},
   "outputs": [
    {
     "name": "stdout",
     "output_type": "stream",
     "text": [
      "INFO: Making new env: Breakout-v0\n",
      "INFO: Making new env: AirRaid-v0\n",
      "INFO: Making new env: Pong-v0\n",
      "INFO: Iter 100: gen_loss=5.325e+00, dis_loss=5.761e-02\n",
      "INFO: Iter 200: gen_loss=6.939e+00, dis_loss=4.935e-03\n",
      "INFO: Iter 300: gen_loss=7.389e+00, dis_loss=2.117e-03\n",
      "INFO: Iter 400: gen_loss=7.608e+00, dis_loss=1.623e-03\n",
      "INFO: Iter 500: gen_loss=9.229e+00, dis_loss=3.880e-02\n",
      "INFO: Iter 600: gen_loss=8.203e+00, dis_loss=6.814e-02\n",
      "INFO: Iter 700: gen_loss=6.819e+00, dis_loss=1.020e-02\n",
      "INFO: Iter 800: gen_loss=6.276e+00, dis_loss=1.562e-01\n",
      "INFO: Iter 900: gen_loss=5.884e+00, dis_loss=2.541e-01\n",
      "INFO: Iter 1000: gen_loss=5.304e+00, dis_loss=2.822e-01\n",
      "INFO: Iter 1100: gen_loss=5.924e+00, dis_loss=1.113e-01\n",
      "INFO: Iter 1200: gen_loss=6.032e+00, dis_loss=1.956e-01\n",
      "INFO: Iter 1300: gen_loss=5.662e+00, dis_loss=1.475e-01\n",
      "INFO: Iter 1400: gen_loss=4.880e+00, dis_loss=1.836e-01\n",
      "INFO: Iter 1500: gen_loss=5.680e+00, dis_loss=2.375e-01\n",
      "INFO: Iter 1600: gen_loss=4.829e+00, dis_loss=1.826e-01\n",
      "INFO: Iter 1700: gen_loss=4.990e+00, dis_loss=1.013e-01\n",
      "INFO: Iter 1800: gen_loss=7.209e+00, dis_loss=1.065e-02\n",
      "INFO: Iter 1900: gen_loss=6.058e+00, dis_loss=4.254e-02\n",
      "INFO: Iter 2000: gen_loss=4.606e+00, dis_loss=4.148e-01\n",
      "INFO: Iter 2100: gen_loss=4.461e+00, dis_loss=3.042e-01\n",
      "INFO: Iter 2200: gen_loss=5.084e+00, dis_loss=1.135e-01\n",
      "INFO: Iter 2300: gen_loss=7.109e+00, dis_loss=2.341e-02\n",
      "INFO: Iter 2400: gen_loss=5.279e+00, dis_loss=9.601e-02\n",
      "INFO: Iter 2500: gen_loss=6.633e+00, dis_loss=1.100e-02\n",
      "INFO: Iter 2600: gen_loss=6.874e+00, dis_loss=3.453e-03\n",
      "INFO: Iter 2700: gen_loss=6.586e+00, dis_loss=4.662e-03\n",
      "INFO: Iter 2800: gen_loss=7.013e+00, dis_loss=1.003e-02\n",
      "INFO: Iter 2900: gen_loss=7.115e+00, dis_loss=1.272e-01\n",
      "INFO: Iter 3000: gen_loss=5.889e+00, dis_loss=1.288e-02\n",
      "INFO: Iter 3100: gen_loss=6.984e+00, dis_loss=1.036e-02\n",
      "INFO: Iter 3200: gen_loss=7.172e+00, dis_loss=5.487e-03\n",
      "INFO: Iter 3300: gen_loss=7.444e+00, dis_loss=2.961e-03\n",
      "INFO: Iter 3400: gen_loss=7.246e+00, dis_loss=1.331e-01\n",
      "INFO: Iter 3500: gen_loss=6.068e+00, dis_loss=9.020e-02\n",
      "INFO: Iter 3600: gen_loss=6.399e+00, dis_loss=6.836e-02\n",
      "INFO: Iter 3700: gen_loss=7.561e+00, dis_loss=1.211e-02\n",
      "INFO: Iter 3800: gen_loss=6.205e+00, dis_loss=2.218e-01\n",
      "INFO: Iter 3900: gen_loss=5.376e+00, dis_loss=2.038e-01\n",
      "INFO: Iter 4000: gen_loss=6.429e+00, dis_loss=4.636e-02\n",
      "INFO: Iter 4100: gen_loss=6.906e+00, dis_loss=2.309e-02\n",
      "INFO: Iter 4200: gen_loss=7.590e+00, dis_loss=1.222e-02\n",
      "INFO: Iter 4300: gen_loss=5.175e+00, dis_loss=3.851e-01\n",
      "INFO: Iter 4400: gen_loss=5.289e+00, dis_loss=1.934e-01\n",
      "INFO: Iter 4500: gen_loss=6.993e+00, dis_loss=8.824e-03\n",
      "INFO: Iter 4600: gen_loss=5.761e+00, dis_loss=3.549e-01\n",
      "INFO: Iter 4700: gen_loss=4.705e+00, dis_loss=2.006e-01\n",
      "INFO: Iter 4800: gen_loss=5.719e+00, dis_loss=3.467e-01\n",
      "INFO: Iter 4900: gen_loss=5.861e+00, dis_loss=1.786e-02\n",
      "INFO: Iter 5000: gen_loss=6.632e+00, dis_loss=6.968e-03\n",
      "INFO: Iter 5100: gen_loss=7.111e+00, dis_loss=4.293e-03\n",
      "INFO: Iter 5200: gen_loss=5.905e+00, dis_loss=1.333e-01\n",
      "INFO: Iter 5300: gen_loss=5.678e+00, dis_loss=1.474e-01\n",
      "INFO: Iter 5400: gen_loss=6.795e+00, dis_loss=7.191e-03\n",
      "INFO: Iter 5500: gen_loss=6.978e+00, dis_loss=8.715e-03\n",
      "INFO: Iter 5600: gen_loss=7.896e+00, dis_loss=1.605e-02\n",
      "INFO: Iter 5700: gen_loss=5.726e+00, dis_loss=1.906e-01\n",
      "INFO: Iter 5800: gen_loss=7.472e+00, dis_loss=5.972e-03\n",
      "INFO: Iter 5900: gen_loss=7.858e+00, dis_loss=7.231e-03\n",
      "INFO: Iter 6000: gen_loss=8.577e+00, dis_loss=7.117e-03\n",
      "INFO: Iter 6100: gen_loss=7.516e+00, dis_loss=1.684e-01\n",
      "INFO: Iter 6200: gen_loss=5.295e+00, dis_loss=2.580e-01\n",
      "INFO: Iter 6300: gen_loss=6.300e+00, dis_loss=2.272e-02\n",
      "INFO: Iter 6400: gen_loss=6.159e+00, dis_loss=7.075e-02\n",
      "INFO: Iter 6500: gen_loss=7.762e+00, dis_loss=1.277e-02\n",
      "INFO: Iter 6600: gen_loss=5.926e+00, dis_loss=5.028e-01\n",
      "INFO: Iter 6700: gen_loss=5.744e+00, dis_loss=2.353e-02\n",
      "INFO: Iter 6800: gen_loss=6.842e+00, dis_loss=3.077e-02\n",
      "INFO: Iter 6900: gen_loss=8.009e+00, dis_loss=4.846e-03\n",
      "INFO: Iter 7000: gen_loss=8.007e+00, dis_loss=2.105e-03\n",
      "INFO: Iter 7100: gen_loss=8.105e+00, dis_loss=1.772e-03\n",
      "INFO: Iter 7200: gen_loss=8.447e+00, dis_loss=3.170e-03\n",
      "INFO: Iter 7300: gen_loss=5.925e+00, dis_loss=1.853e-01\n",
      "INFO: Iter 7400: gen_loss=7.235e+00, dis_loss=1.021e-02\n",
      "INFO: Iter 7500: gen_loss=7.068e+00, dis_loss=1.213e-01\n",
      "INFO: Iter 7600: gen_loss=6.082e+00, dis_loss=1.829e-01\n",
      "INFO: Iter 7700: gen_loss=7.715e+00, dis_loss=1.141e-02\n",
      "INFO: Iter 7800: gen_loss=7.083e+00, dis_loss=2.012e-01\n",
      "INFO: Iter 7900: gen_loss=7.214e+00, dis_loss=4.238e-01\n",
      "INFO: Iter 8000: gen_loss=4.626e+00, dis_loss=2.824e-01\n",
      "INFO: Iter 8100: gen_loss=5.370e+00, dis_loss=2.980e-01\n",
      "INFO: Iter 8200: gen_loss=6.245e+00, dis_loss=1.481e-01\n",
      "INFO: Iter 8300: gen_loss=5.708e+00, dis_loss=3.921e-02\n",
      "INFO: Iter 8400: gen_loss=5.839e+00, dis_loss=2.835e-01\n",
      "INFO: Iter 8500: gen_loss=5.874e+00, dis_loss=2.502e-02\n",
      "INFO: Iter 8600: gen_loss=6.423e+00, dis_loss=6.551e-03\n",
      "INFO: Iter 8700: gen_loss=7.096e+00, dis_loss=6.066e-03\n",
      "INFO: Iter 8800: gen_loss=6.758e+00, dis_loss=1.216e-01\n",
      "INFO: Iter 8900: gen_loss=6.747e+00, dis_loss=6.642e-03\n",
      "INFO: Iter 9000: gen_loss=6.554e+00, dis_loss=4.347e-03\n",
      "INFO: Iter 9100: gen_loss=5.996e+00, dis_loss=8.094e-03\n",
      "INFO: Iter 9200: gen_loss=6.932e+00, dis_loss=2.687e-03\n",
      "INFO: Iter 9300: gen_loss=7.110e+00, dis_loss=2.403e-03\n",
      "INFO: Iter 9400: gen_loss=7.119e+00, dis_loss=2.141e-03\n",
      "INFO: Iter 9500: gen_loss=7.176e+00, dis_loss=1.873e-03\n",
      "INFO: Iter 9600: gen_loss=6.835e+00, dis_loss=2.461e-03\n",
      "INFO: Iter 9700: gen_loss=6.850e+00, dis_loss=3.359e-03\n",
      "INFO: Iter 9800: gen_loss=7.720e+00, dis_loss=3.758e-02\n",
      "INFO: Iter 9900: gen_loss=8.802e+00, dis_loss=1.020e-01\n",
      "INFO: Iter 10000: gen_loss=7.273e+00, dis_loss=2.306e-03\n",
      "INFO: Iter 10100: gen_loss=7.665e+00, dis_loss=2.071e-03\n",
      "INFO: Iter 10200: gen_loss=7.704e+00, dis_loss=1.280e-03\n",
      "INFO: Iter 10300: gen_loss=7.487e+00, dis_loss=1.188e-03\n",
      "INFO: Iter 10400: gen_loss=7.430e+00, dis_loss=3.164e-03\n",
      "INFO: Iter 10500: gen_loss=7.400e+00, dis_loss=1.267e-03\n",
      "INFO: Iter 10600: gen_loss=7.392e+00, dis_loss=1.891e-03\n",
      "INFO: Iter 10700: gen_loss=8.263e+00, dis_loss=1.650e-03\n",
      "INFO: Iter 10800: gen_loss=8.648e+00, dis_loss=1.409e-03\n",
      "INFO: Iter 10900: gen_loss=9.072e+00, dis_loss=6.430e-04\n",
      "INFO: Iter 11000: gen_loss=8.948e+00, dis_loss=9.173e-04\n",
      "INFO: Iter 11100: gen_loss=9.310e+00, dis_loss=4.101e-04\n",
      "INFO: Iter 11200: gen_loss=9.476e+00, dis_loss=3.946e-04\n",
      "INFO: Iter 11300: gen_loss=9.550e+00, dis_loss=1.320e-03\n",
      "INFO: Iter 11400: gen_loss=9.508e+00, dis_loss=8.094e-04\n",
      "INFO: Iter 11500: gen_loss=1.001e+01, dis_loss=2.682e-04\n",
      "INFO: Iter 11600: gen_loss=1.008e+01, dis_loss=2.716e-04\n",
      "INFO: Iter 11700: gen_loss=1.053e+01, dis_loss=1.275e-03\n",
      "INFO: Iter 11800: gen_loss=1.154e+01, dis_loss=3.171e-04\n",
      "INFO: Iter 11900: gen_loss=1.066e+01, dis_loss=1.272e-04\n",
      "INFO: Iter 12000: gen_loss=1.015e+01, dis_loss=2.252e-04\n",
      "INFO: Iter 12100: gen_loss=1.054e+01, dis_loss=1.974e-04\n",
      "INFO: Iter 12200: gen_loss=1.041e+01, dis_loss=1.226e-04\n",
      "INFO: Iter 12300: gen_loss=1.080e+01, dis_loss=1.151e-04\n",
      "INFO: Iter 12400: gen_loss=1.058e+01, dis_loss=1.053e-04\n",
      "INFO: Iter 12500: gen_loss=1.043e+01, dis_loss=1.533e-04\n",
      "INFO: Iter 12600: gen_loss=1.038e+01, dis_loss=2.073e-04\n",
      "INFO: Iter 12700: gen_loss=1.036e+01, dis_loss=2.213e-04\n",
      "INFO: Iter 12800: gen_loss=1.051e+01, dis_loss=7.820e-05\n",
      "INFO: Iter 12900: gen_loss=1.069e+01, dis_loss=5.804e-05\n",
      "INFO: Iter 13000: gen_loss=1.036e+01, dis_loss=1.097e-04\n",
      "INFO: Iter 13100: gen_loss=1.038e+01, dis_loss=7.299e-05\n",
      "INFO: Iter 13200: gen_loss=1.033e+01, dis_loss=8.459e-05\n",
      "INFO: Iter 13300: gen_loss=1.014e+01, dis_loss=7.734e-05\n",
      "INFO: Iter 13400: gen_loss=8.308e+00, dis_loss=2.034e-01\n",
      "INFO: Iter 13500: gen_loss=8.173e+00, dis_loss=1.939e-01\n",
      "INFO: Iter 13600: gen_loss=7.461e+00, dis_loss=5.923e-02\n",
      "INFO: Iter 13700: gen_loss=7.825e+00, dis_loss=9.154e-03\n",
      "INFO: Iter 13800: gen_loss=9.090e+00, dis_loss=3.006e-03\n",
      "INFO: Iter 13900: gen_loss=8.985e+00, dis_loss=2.814e-03\n",
      "INFO: Iter 14000: gen_loss=9.944e+00, dis_loss=3.452e-03\n",
      "INFO: Iter 14100: gen_loss=8.428e+00, dis_loss=2.905e-01\n",
      "INFO: Iter 14200: gen_loss=6.186e+00, dis_loss=9.219e-02\n",
      "INFO: Iter 14300: gen_loss=5.111e+00, dis_loss=4.616e-01\n",
      "INFO: Iter 14400: gen_loss=6.885e+00, dis_loss=1.527e-02\n",
      "INFO: Iter 14500: gen_loss=6.850e+00, dis_loss=1.247e-01\n",
      "INFO: Iter 14600: gen_loss=7.738e+00, dis_loss=1.222e-02\n",
      "INFO: Iter 14700: gen_loss=8.477e+00, dis_loss=5.903e-03\n",
      "INFO: Iter 14800: gen_loss=8.634e+00, dis_loss=4.975e-03\n",
      "INFO: Iter 14900: gen_loss=9.279e+00, dis_loss=7.289e-03\n",
      "INFO: Iter 15000: gen_loss=9.368e+00, dis_loss=1.279e-03\n",
      "INFO: Iter 15100: gen_loss=8.707e+00, dis_loss=3.881e-03\n",
      "INFO: Iter 15200: gen_loss=9.426e+00, dis_loss=1.432e-03\n",
      "INFO: Iter 15300: gen_loss=9.403e+00, dis_loss=1.024e-03\n",
      "INFO: Iter 15400: gen_loss=9.556e+00, dis_loss=2.329e-03\n",
      "INFO: Iter 15500: gen_loss=9.448e+00, dis_loss=1.152e-03\n",
      "INFO: Iter 15600: gen_loss=9.781e+00, dis_loss=2.238e-03\n",
      "INFO: Iter 15700: gen_loss=9.819e+00, dis_loss=6.338e-04\n",
      "INFO: Iter 15800: gen_loss=7.243e+00, dis_loss=3.079e-01\n",
      "INFO: Iter 15900: gen_loss=4.812e+00, dis_loss=3.079e-01\n",
      "INFO: Iter 16000: gen_loss=5.996e+00, dis_loss=2.353e-01\n",
      "INFO: Iter 16100: gen_loss=6.015e+00, dis_loss=1.197e-01\n",
      "INFO: Iter 16200: gen_loss=7.748e+00, dis_loss=3.163e-02\n",
      "INFO: Iter 16300: gen_loss=6.591e+00, dis_loss=1.197e-01\n",
      "INFO: Iter 16400: gen_loss=7.515e+00, dis_loss=1.305e-01\n",
      "INFO: Iter 16500: gen_loss=6.920e+00, dis_loss=6.285e-02\n",
      "INFO: Iter 16600: gen_loss=7.951e+00, dis_loss=1.002e-02\n",
      "INFO: Iter 16700: gen_loss=7.838e+00, dis_loss=1.011e-01\n",
      "INFO: Iter 16800: gen_loss=7.512e+00, dis_loss=4.610e-02\n",
      "INFO: Iter 16900: gen_loss=8.334e+00, dis_loss=4.367e-03\n",
      "INFO: Iter 17000: gen_loss=8.855e+00, dis_loss=2.882e-03\n",
      "INFO: Iter 17100: gen_loss=6.670e+00, dis_loss=1.985e-01\n",
      "INFO: Iter 17200: gen_loss=8.066e+00, dis_loss=2.987e-02\n",
      "INFO: Iter 17300: gen_loss=8.641e+00, dis_loss=7.337e-02\n",
      "INFO: Iter 17400: gen_loss=8.779e+00, dis_loss=7.230e-03\n",
      "INFO: Iter 17500: gen_loss=8.603e+00, dis_loss=3.575e-03\n",
      "INFO: Iter 17600: gen_loss=8.726e+00, dis_loss=1.709e-03\n",
      "INFO: Iter 17700: gen_loss=7.709e+00, dis_loss=1.556e-01\n",
      "INFO: Iter 17800: gen_loss=8.912e+00, dis_loss=3.604e-02\n",
      "INFO: Iter 17900: gen_loss=8.985e+00, dis_loss=7.433e-03\n",
      "INFO: Iter 18000: gen_loss=9.111e+00, dis_loss=9.632e-03\n",
      "INFO: Iter 18100: gen_loss=7.823e+00, dis_loss=2.262e-01\n",
      "INFO: Iter 18200: gen_loss=7.433e+00, dis_loss=8.345e-02\n",
      "INFO: Iter 18300: gen_loss=8.258e+00, dis_loss=1.446e-02\n",
      "INFO: Iter 18400: gen_loss=8.735e+00, dis_loss=8.895e-03\n",
      "INFO: Iter 18500: gen_loss=7.765e+00, dis_loss=2.406e-01\n",
      "INFO: Iter 18600: gen_loss=7.573e+00, dis_loss=1.528e-02\n",
      "INFO: Iter 18700: gen_loss=7.995e+00, dis_loss=4.349e-03\n",
      "INFO: Iter 18800: gen_loss=8.490e+00, dis_loss=3.718e-03\n",
      "INFO: Iter 18900: gen_loss=8.426e+00, dis_loss=3.431e-03\n",
      "INFO: Iter 19000: gen_loss=9.468e+00, dis_loss=3.794e-03\n",
      "INFO: Iter 19100: gen_loss=7.651e+00, dis_loss=1.853e-01\n",
      "INFO: Iter 19200: gen_loss=7.201e+00, dis_loss=1.070e-01\n",
      "INFO: Iter 19300: gen_loss=8.211e+00, dis_loss=3.581e-02\n",
      "INFO: Iter 19400: gen_loss=9.391e+00, dis_loss=9.756e-02\n",
      "INFO: Iter 19500: gen_loss=1.011e+01, dis_loss=8.517e-03\n",
      "INFO: Iter 19600: gen_loss=9.426e+00, dis_loss=2.962e-01\n",
      "INFO: Iter 19700: gen_loss=6.850e+00, dis_loss=2.839e-02\n",
      "INFO: Iter 19800: gen_loss=6.822e+00, dis_loss=3.632e-01\n",
      "INFO: Iter 19900: gen_loss=5.690e+00, dis_loss=1.046e-01\n",
      "INFO: Iter 20000: gen_loss=6.983e+00, dis_loss=2.002e-01\n",
      "INFO: Iter 20100: gen_loss=6.418e+00, dis_loss=2.567e-01\n",
      "INFO: Iter 20200: gen_loss=6.702e+00, dis_loss=1.446e-01\n",
      "INFO: Iter 20300: gen_loss=6.354e+00, dis_loss=1.346e-01\n",
      "INFO: Iter 20400: gen_loss=6.309e+00, dis_loss=6.085e-03\n",
      "INFO: Iter 20500: gen_loss=6.271e+00, dis_loss=7.917e-03\n",
      "INFO: Iter 20600: gen_loss=7.033e+00, dis_loss=1.510e-01\n",
      "INFO: Iter 20700: gen_loss=6.758e+00, dis_loss=1.661e-01\n",
      "INFO: Iter 20800: gen_loss=6.899e+00, dis_loss=2.700e-01\n",
      "INFO: Iter 20900: gen_loss=4.645e+00, dis_loss=2.323e-01\n",
      "INFO: Iter 21000: gen_loss=6.534e+00, dis_loss=8.537e-02\n",
      "INFO: Iter 21100: gen_loss=6.822e+00, dis_loss=1.164e-01\n",
      "INFO: Iter 21200: gen_loss=7.974e+00, dis_loss=1.381e-01\n",
      "INFO: Iter 21300: gen_loss=7.268e+00, dis_loss=3.801e-02\n",
      "INFO: Iter 21400: gen_loss=7.876e+00, dis_loss=1.314e-01\n",
      "INFO: Iter 21500: gen_loss=7.048e+00, dis_loss=1.675e-01\n",
      "INFO: Iter 21600: gen_loss=5.940e+00, dis_loss=3.009e-02\n",
      "INFO: Iter 21700: gen_loss=6.363e+00, dis_loss=1.442e-01\n",
      "INFO: Iter 21800: gen_loss=6.867e+00, dis_loss=2.147e-02\n",
      "INFO: Iter 21900: gen_loss=6.851e+00, dis_loss=7.723e-03\n",
      "INFO: Iter 22000: gen_loss=7.399e+00, dis_loss=4.104e-03\n",
      "INFO: Iter 22100: gen_loss=7.395e+00, dis_loss=3.792e-03\n",
      "INFO: Iter 22200: gen_loss=8.015e+00, dis_loss=2.204e-03\n",
      "INFO: Iter 22300: gen_loss=7.877e+00, dis_loss=2.557e-03\n",
      "INFO: Iter 22400: gen_loss=7.614e+00, dis_loss=4.513e-03\n",
      "INFO: Iter 22500: gen_loss=6.391e+00, dis_loss=4.987e-03\n",
      "INFO: Iter 22600: gen_loss=7.090e+00, dis_loss=2.539e-03\n",
      "INFO: Iter 22700: gen_loss=7.534e+00, dis_loss=1.596e-03\n",
      "INFO: Iter 22800: gen_loss=7.706e+00, dis_loss=1.553e-03\n",
      "INFO: Iter 22900: gen_loss=8.038e+00, dis_loss=1.150e-03\n",
      "INFO: Iter 23000: gen_loss=7.911e+00, dis_loss=1.247e-03\n",
      "INFO: Iter 23100: gen_loss=8.384e+00, dis_loss=8.712e-04\n",
      "INFO: Iter 23200: gen_loss=8.408e+00, dis_loss=6.244e-04\n",
      "INFO: Iter 23300: gen_loss=8.414e+00, dis_loss=7.106e-04\n",
      "INFO: Iter 23400: gen_loss=8.643e+00, dis_loss=4.986e-04\n",
      "INFO: Iter 23500: gen_loss=8.879e+00, dis_loss=4.505e-04\n",
      "INFO: Iter 23600: gen_loss=8.639e+00, dis_loss=5.253e-04\n",
      "INFO: Iter 23700: gen_loss=8.750e+00, dis_loss=4.858e-04\n",
      "INFO: Iter 23800: gen_loss=9.032e+00, dis_loss=3.408e-04\n",
      "INFO: Iter 23900: gen_loss=9.120e+00, dis_loss=2.553e-04\n",
      "INFO: Iter 24000: gen_loss=9.087e+00, dis_loss=3.292e-04\n",
      "INFO: Iter 24100: gen_loss=9.224e+00, dis_loss=2.348e-04\n",
      "INFO: Iter 24200: gen_loss=9.322e+00, dis_loss=2.484e-04\n",
      "INFO: Iter 24300: gen_loss=9.464e+00, dis_loss=2.218e-04\n",
      "INFO: Iter 24400: gen_loss=9.655e+00, dis_loss=1.247e-04\n",
      "INFO: Iter 24500: gen_loss=9.593e+00, dis_loss=2.241e-04\n",
      "INFO: Iter 24600: gen_loss=9.754e+00, dis_loss=1.021e-04\n",
      "INFO: Iter 24700: gen_loss=9.861e+00, dis_loss=9.655e-05\n",
      "INFO: Iter 24800: gen_loss=9.927e+00, dis_loss=1.144e-04\n",
      "INFO: Iter 24900: gen_loss=1.006e+01, dis_loss=9.239e-05\n",
      "INFO: Iter 25000: gen_loss=1.022e+01, dis_loss=1.159e-04\n",
      "INFO: Iter 25100: gen_loss=1.014e+01, dis_loss=8.674e-05\n",
      "INFO: Iter 25200: gen_loss=1.028e+01, dis_loss=5.948e-05\n",
      "INFO: Iter 25300: gen_loss=1.046e+01, dis_loss=6.108e-05\n",
      "INFO: Iter 25400: gen_loss=1.057e+01, dis_loss=5.526e-05\n",
      "INFO: Iter 25500: gen_loss=1.063e+01, dis_loss=5.029e-05\n",
      "INFO: Iter 25600: gen_loss=1.073e+01, dis_loss=5.906e-05\n",
      "INFO: Iter 25700: gen_loss=1.066e+01, dis_loss=1.021e-04\n",
      "INFO: Iter 25800: gen_loss=1.080e+01, dis_loss=4.482e-05\n",
      "INFO: Iter 25900: gen_loss=1.105e+01, dis_loss=3.331e-05\n",
      "INFO: Iter 26000: gen_loss=1.118e+01, dis_loss=3.113e-05\n",
      "INFO: Iter 26100: gen_loss=1.122e+01, dis_loss=3.901e-05\n",
      "INFO: Iter 26200: gen_loss=1.134e+01, dis_loss=2.790e-05\n",
      "INFO: Iter 26300: gen_loss=1.146e+01, dis_loss=2.108e-05\n",
      "INFO: Iter 26400: gen_loss=1.162e+01, dis_loss=2.071e-05\n",
      "INFO: Iter 26500: gen_loss=1.153e+01, dis_loss=2.698e-05\n",
      "INFO: Iter 26600: gen_loss=1.176e+01, dis_loss=2.001e-05\n",
      "INFO: Iter 26700: gen_loss=1.174e+01, dis_loss=2.280e-05\n",
      "INFO: Iter 26800: gen_loss=1.177e+01, dis_loss=2.145e-05\n",
      "INFO: Iter 26900: gen_loss=1.183e+01, dis_loss=1.845e-05\n",
      "INFO: Iter 27000: gen_loss=1.197e+01, dis_loss=1.745e-05\n",
      "INFO: Iter 27100: gen_loss=1.195e+01, dis_loss=1.682e-05\n",
      "INFO: Iter 27200: gen_loss=1.206e+01, dis_loss=1.899e-05\n",
      "INFO: Iter 27300: gen_loss=1.223e+01, dis_loss=1.275e-05\n",
      "INFO: Iter 27400: gen_loss=1.210e+01, dis_loss=1.584e-05\n",
      "INFO: Iter 27500: gen_loss=1.232e+01, dis_loss=2.491e-05\n",
      "INFO: Iter 27600: gen_loss=1.236e+01, dis_loss=1.208e-05\n",
      "INFO: Iter 27700: gen_loss=1.265e+01, dis_loss=8.899e-06\n",
      "INFO: Iter 27800: gen_loss=1.271e+01, dis_loss=1.015e-05\n",
      "INFO: Iter 27900: gen_loss=1.271e+01, dis_loss=7.871e-06\n",
      "INFO: Iter 28000: gen_loss=1.291e+01, dis_loss=9.161e-06\n",
      "INFO: Iter 28100: gen_loss=1.285e+01, dis_loss=9.198e-06\n",
      "INFO: Iter 28200: gen_loss=1.285e+01, dis_loss=8.662e-06\n",
      "INFO: Iter 28300: gen_loss=1.301e+01, dis_loss=6.987e-06\n",
      "INFO: Iter 28400: gen_loss=1.304e+01, dis_loss=1.053e-05\n",
      "INFO: Iter 28500: gen_loss=1.312e+01, dis_loss=8.162e-06\n",
      "INFO: Iter 28600: gen_loss=1.321e+01, dis_loss=7.264e-06\n",
      "INFO: Iter 28700: gen_loss=7.769e+00, dis_loss=2.422e-01\n",
      "INFO: Iter 28800: gen_loss=6.948e+00, dis_loss=4.387e-03\n",
      "INFO: Iter 28900: gen_loss=7.978e+00, dis_loss=3.587e-03\n",
      "INFO: Iter 29000: gen_loss=9.786e+00, dis_loss=9.402e-02\n",
      "INFO: Iter 29100: gen_loss=6.711e+00, dis_loss=1.704e-02\n",
      "INFO: Iter 29200: gen_loss=7.370e+00, dis_loss=3.173e-01\n",
      "INFO: Iter 29300: gen_loss=6.497e+00, dis_loss=2.949e-01\n",
      "INFO: Iter 29400: gen_loss=6.256e+00, dis_loss=1.352e-02\n",
      "INFO: Iter 29500: gen_loss=6.671e+00, dis_loss=4.465e-03\n",
      "INFO: Iter 29600: gen_loss=7.045e+00, dis_loss=2.612e-03\n",
      "INFO: Iter 29700: gen_loss=7.365e+00, dis_loss=2.382e-03\n",
      "INFO: Iter 29800: gen_loss=7.930e+00, dis_loss=1.339e-03\n",
      "INFO: Iter 29900: gen_loss=7.890e+00, dis_loss=1.733e-03\n",
      "INFO: Iter 30000: gen_loss=7.927e+00, dis_loss=1.649e-03\n",
      "INFO: Iter 30100: gen_loss=8.465e+00, dis_loss=2.026e-03\n",
      "INFO: Iter 30200: gen_loss=7.562e+00, dis_loss=4.990e-01\n",
      "INFO: Iter 30300: gen_loss=6.064e+00, dis_loss=1.495e-01\n",
      "INFO: Iter 30400: gen_loss=6.222e+00, dis_loss=2.566e-01\n",
      "INFO: Iter 30500: gen_loss=6.576e+00, dis_loss=2.329e-01\n",
      "INFO: Iter 30600: gen_loss=6.791e+00, dis_loss=5.781e-03\n",
      "INFO: Iter 30700: gen_loss=7.145e+00, dis_loss=4.479e-03\n",
      "INFO: Iter 30800: gen_loss=8.072e+00, dis_loss=5.821e-03\n",
      "INFO: Iter 30900: gen_loss=8.539e+00, dis_loss=8.860e-03\n",
      "INFO: Iter 31000: gen_loss=6.422e+00, dis_loss=2.651e-01\n",
      "INFO: Iter 31100: gen_loss=7.720e+00, dis_loss=1.316e-01\n",
      "INFO: Iter 31200: gen_loss=7.477e+00, dis_loss=9.071e-02\n",
      "INFO: Iter 31300: gen_loss=5.469e+00, dis_loss=1.851e-01\n",
      "INFO: Iter 31400: gen_loss=7.279e+00, dis_loss=9.969e-02\n",
      "INFO: Iter 31500: gen_loss=7.046e+00, dis_loss=1.082e-01\n",
      "INFO: Iter 31600: gen_loss=7.386e+00, dis_loss=8.661e-02\n",
      "INFO: Iter 31700: gen_loss=7.066e+00, dis_loss=2.911e-01\n",
      "INFO: Iter 31800: gen_loss=7.431e+00, dis_loss=1.108e-01\n",
      "INFO: Iter 31900: gen_loss=7.381e+00, dis_loss=1.006e-01\n",
      "INFO: Iter 32000: gen_loss=6.878e+00, dis_loss=1.023e-01\n",
      "INFO: Iter 32100: gen_loss=6.945e+00, dis_loss=1.619e-01\n",
      "INFO: Iter 32200: gen_loss=7.702e+00, dis_loss=6.950e-02\n",
      "INFO: Iter 32300: gen_loss=6.534e+00, dis_loss=2.144e-01\n",
      "INFO: Iter 32400: gen_loss=6.897e+00, dis_loss=6.386e-02\n",
      "INFO: Iter 32500: gen_loss=7.955e+00, dis_loss=1.120e-01\n",
      "INFO: Iter 32600: gen_loss=6.898e+00, dis_loss=1.453e-01\n",
      "INFO: Iter 32700: gen_loss=7.226e+00, dis_loss=2.244e-01\n",
      "INFO: Iter 32800: gen_loss=6.499e+00, dis_loss=1.497e-02\n",
      "INFO: Iter 32900: gen_loss=6.674e+00, dis_loss=2.964e-01\n",
      "INFO: Iter 33000: gen_loss=5.965e+00, dis_loss=3.181e-02\n",
      "INFO: Iter 33100: gen_loss=7.178e+00, dis_loss=8.712e-03\n",
      "INFO: Iter 33200: gen_loss=7.946e+00, dis_loss=1.266e-02\n",
      "INFO: Iter 33300: gen_loss=7.942e+00, dis_loss=1.483e-01\n",
      "INFO: Iter 33400: gen_loss=6.959e+00, dis_loss=4.382e-02\n",
      "INFO: Iter 33500: gen_loss=7.535e+00, dis_loss=2.516e-01\n",
      "INFO: Iter 33600: gen_loss=8.544e+00, dis_loss=1.179e-01\n",
      "INFO: Iter 33700: gen_loss=7.897e+00, dis_loss=2.019e-01\n",
      "INFO: Iter 33800: gen_loss=7.793e+00, dis_loss=1.315e-01\n",
      "INFO: Iter 33900: gen_loss=7.109e+00, dis_loss=7.574e-02\n",
      "INFO: Iter 34000: gen_loss=7.636e+00, dis_loss=1.769e-01\n",
      "INFO: Iter 34100: gen_loss=7.338e+00, dis_loss=6.295e-02\n",
      "INFO: Iter 34200: gen_loss=8.386e+00, dis_loss=1.722e-01\n",
      "INFO: Iter 34300: gen_loss=7.924e+00, dis_loss=7.382e-02\n",
      "INFO: Iter 34400: gen_loss=8.565e+00, dis_loss=2.265e-01\n",
      "INFO: Iter 34500: gen_loss=6.203e+00, dis_loss=4.099e-01\n",
      "INFO: Iter 34600: gen_loss=5.080e+00, dis_loss=1.394e-02\n",
      "INFO: Iter 34700: gen_loss=5.726e+00, dis_loss=1.095e-02\n",
      "INFO: Iter 34800: gen_loss=6.844e+00, dis_loss=4.519e-03\n",
      "INFO: Iter 34900: gen_loss=6.787e+00, dis_loss=6.351e-03\n",
      "INFO: Iter 35000: gen_loss=7.853e+00, dis_loss=4.154e-03\n",
      "INFO: Iter 35100: gen_loss=8.442e+00, dis_loss=4.223e-03\n",
      "INFO: Iter 35200: gen_loss=7.645e+00, dis_loss=4.732e-02\n",
      "INFO: Iter 35300: gen_loss=9.050e+00, dis_loss=3.380e-03\n",
      "INFO: Iter 35400: gen_loss=7.723e+00, dis_loss=5.817e-02\n",
      "INFO: Iter 35500: gen_loss=7.754e+00, dis_loss=2.293e-03\n",
      "INFO: Iter 35600: gen_loss=8.228e+00, dis_loss=2.176e-03\n",
      "INFO: Iter 35700: gen_loss=8.277e+00, dis_loss=5.478e-03\n",
      "INFO: Iter 35800: gen_loss=9.876e+00, dis_loss=2.070e-03\n",
      "INFO: Iter 35900: gen_loss=9.799e+00, dis_loss=1.591e-02\n",
      "INFO: Iter 36000: gen_loss=7.816e+00, dis_loss=1.658e-01\n",
      "INFO: Iter 36100: gen_loss=7.939e+00, dis_loss=7.700e-03\n",
      "INFO: Iter 36200: gen_loss=7.768e+00, dis_loss=2.476e-03\n",
      "INFO: Iter 36300: gen_loss=8.115e+00, dis_loss=2.393e-03\n",
      "INFO: Iter 36400: gen_loss=8.277e+00, dis_loss=1.748e-03\n",
      "INFO: Iter 36500: gen_loss=7.956e+00, dis_loss=2.737e-03\n",
      "INFO: Iter 36600: gen_loss=8.298e+00, dis_loss=1.112e-03\n",
      "INFO: Iter 36700: gen_loss=9.579e+00, dis_loss=5.493e-03\n",
      "INFO: Iter 36800: gen_loss=9.229e+00, dis_loss=5.107e-04\n",
      "INFO: Iter 36900: gen_loss=8.648e+00, dis_loss=6.051e-04\n",
      "INFO: Iter 37000: gen_loss=8.724e+00, dis_loss=6.181e-04\n",
      "INFO: Iter 37100: gen_loss=8.581e+00, dis_loss=1.475e-03\n",
      "INFO: Iter 37200: gen_loss=9.221e+00, dis_loss=6.160e-04\n",
      "INFO: Iter 37300: gen_loss=1.017e+01, dis_loss=3.581e-04\n",
      "INFO: Iter 37400: gen_loss=1.034e+01, dis_loss=9.531e-04\n",
      "INFO: Iter 37500: gen_loss=9.902e+00, dis_loss=1.145e-03\n",
      "INFO: Iter 37600: gen_loss=1.066e+01, dis_loss=1.887e-04\n",
      "INFO: Iter 37700: gen_loss=1.052e+01, dis_loss=2.584e-04\n",
      "INFO: Iter 37800: gen_loss=1.057e+01, dis_loss=5.287e-04\n",
      "INFO: Iter 37900: gen_loss=1.050e+01, dis_loss=2.581e-04\n",
      "INFO: Iter 38000: gen_loss=9.736e+00, dis_loss=1.335e-03\n",
      "INFO: Iter 38100: gen_loss=1.067e+01, dis_loss=2.723e-04\n",
      "INFO: Iter 38200: gen_loss=1.087e+01, dis_loss=1.144e-04\n",
      "INFO: Iter 38300: gen_loss=1.098e+01, dis_loss=1.519e-04\n",
      "INFO: Iter 38400: gen_loss=1.035e+01, dis_loss=1.761e-04\n",
      "INFO: Iter 38500: gen_loss=1.011e+01, dis_loss=1.348e-04\n",
      "INFO: Iter 38600: gen_loss=9.673e+00, dis_loss=5.433e-04\n",
      "INFO: Iter 38700: gen_loss=1.039e+01, dis_loss=1.398e-04\n",
      "INFO: Iter 38800: gen_loss=1.029e+01, dis_loss=1.028e-04\n",
      "INFO: Iter 38900: gen_loss=1.110e+01, dis_loss=4.483e-02\n",
      "INFO: Iter 39000: gen_loss=9.395e+00, dis_loss=2.179e-02\n",
      "INFO: Iter 39100: gen_loss=8.687e+00, dis_loss=3.640e-03\n",
      "INFO: Iter 39200: gen_loss=1.033e+01, dis_loss=4.355e-04\n",
      "INFO: Iter 39300: gen_loss=9.998e+00, dis_loss=1.917e-01\n",
      "INFO: Iter 39400: gen_loss=7.410e+00, dis_loss=4.721e-03\n",
      "INFO: Iter 39500: gen_loss=7.214e+00, dis_loss=5.389e-02\n",
      "INFO: Iter 39600: gen_loss=7.460e+00, dis_loss=6.561e-03\n",
      "INFO: Iter 39700: gen_loss=9.803e+00, dis_loss=2.514e-02\n",
      "INFO: Iter 39800: gen_loss=8.466e+00, dis_loss=6.984e-02\n",
      "INFO: Iter 39900: gen_loss=8.180e+00, dis_loss=2.216e-02\n",
      "INFO: Iter 40000: gen_loss=8.930e+00, dis_loss=3.286e-03\n",
      "INFO: Iter 40100: gen_loss=9.029e+00, dis_loss=9.638e-04\n",
      "INFO: Iter 40200: gen_loss=9.444e+00, dis_loss=2.181e-03\n",
      "INFO: Iter 40300: gen_loss=8.709e+00, dis_loss=3.838e-03\n",
      "INFO: Iter 40400: gen_loss=9.589e+00, dis_loss=5.818e-03\n",
      "INFO: Iter 40500: gen_loss=9.232e+00, dis_loss=5.206e-04\n",
      "INFO: Iter 40600: gen_loss=7.792e+00, dis_loss=2.186e-03\n",
      "INFO: Iter 40700: gen_loss=6.896e+00, dis_loss=4.040e-03\n",
      "INFO: Iter 40800: gen_loss=7.165e+00, dis_loss=1.747e-03\n",
      "INFO: Iter 40900: gen_loss=7.498e+00, dis_loss=2.054e-03\n",
      "INFO: Iter 41000: gen_loss=8.151e+00, dis_loss=9.267e-02\n",
      "INFO: Iter 41100: gen_loss=7.129e+00, dis_loss=1.193e-02\n",
      "INFO: Iter 41200: gen_loss=7.734e+00, dis_loss=2.043e-03\n",
      "INFO: Iter 41300: gen_loss=8.467e+00, dis_loss=3.188e-03\n",
      "INFO: Iter 41400: gen_loss=8.629e+00, dis_loss=6.317e-04\n",
      "INFO: Iter 41500: gen_loss=8.109e+00, dis_loss=7.316e-04\n",
      "INFO: Iter 41600: gen_loss=7.537e+00, dis_loss=5.243e-03\n",
      "INFO: Iter 41700: gen_loss=6.378e+00, dis_loss=4.382e-01\n",
      "INFO: Iter 41800: gen_loss=6.463e+00, dis_loss=2.523e-01\n",
      "INFO: Iter 41900: gen_loss=6.455e+00, dis_loss=1.988e-01\n",
      "INFO: Iter 42000: gen_loss=7.193e+00, dis_loss=1.446e-01\n",
      "INFO: Iter 42100: gen_loss=7.938e+00, dis_loss=1.708e-01\n",
      "INFO: Iter 42200: gen_loss=7.313e+00, dis_loss=6.892e-02\n",
      "INFO: Iter 42300: gen_loss=6.560e+00, dis_loss=2.229e-01\n",
      "INFO: Iter 42400: gen_loss=6.695e+00, dis_loss=1.099e-01\n",
      "INFO: Iter 42500: gen_loss=6.582e+00, dis_loss=2.260e-01\n",
      "INFO: Iter 42600: gen_loss=6.877e+00, dis_loss=1.540e-01\n",
      "INFO: Iter 42700: gen_loss=6.668e+00, dis_loss=7.869e-02\n",
      "INFO: Iter 42800: gen_loss=7.468e+00, dis_loss=1.241e-01\n",
      "INFO: Iter 42900: gen_loss=7.489e+00, dis_loss=3.107e-02\n",
      "INFO: Iter 43000: gen_loss=8.261e+00, dis_loss=1.886e-01\n",
      "INFO: Iter 43100: gen_loss=7.462e+00, dis_loss=9.988e-02\n",
      "INFO: Iter 43200: gen_loss=7.936e+00, dis_loss=9.378e-02\n",
      "INFO: Iter 43300: gen_loss=7.089e+00, dis_loss=2.080e-01\n",
      "INFO: Iter 43400: gen_loss=6.464e+00, dis_loss=5.955e-02\n",
      "INFO: Iter 43500: gen_loss=6.476e+00, dis_loss=2.506e-01\n",
      "INFO: Iter 43600: gen_loss=6.560e+00, dis_loss=2.295e-02\n",
      "INFO: Iter 43700: gen_loss=7.562e+00, dis_loss=1.664e-01\n",
      "INFO: Iter 43800: gen_loss=6.727e+00, dis_loss=1.091e-01\n",
      "INFO: Iter 43900: gen_loss=8.220e+00, dis_loss=2.325e-01\n",
      "INFO: Iter 44000: gen_loss=6.485e+00, dis_loss=7.982e-02\n",
      "INFO: Iter 44100: gen_loss=7.371e+00, dis_loss=1.405e-01\n",
      "INFO: Iter 44200: gen_loss=7.050e+00, dis_loss=1.524e-01\n",
      "INFO: Iter 44300: gen_loss=7.531e+00, dis_loss=1.149e-01\n",
      "INFO: Iter 44400: gen_loss=8.005e+00, dis_loss=1.446e-01\n",
      "INFO: Iter 44500: gen_loss=7.753e+00, dis_loss=8.252e-02\n",
      "INFO: Iter 44600: gen_loss=8.609e+00, dis_loss=2.261e-01\n",
      "INFO: Iter 44700: gen_loss=7.207e+00, dis_loss=8.672e-02\n",
      "INFO: Iter 44800: gen_loss=7.969e+00, dis_loss=1.751e-01\n",
      "INFO: Iter 44900: gen_loss=7.112e+00, dis_loss=2.669e-01\n",
      "INFO: Iter 45000: gen_loss=6.956e+00, dis_loss=7.997e-02\n",
      "INFO: Iter 45100: gen_loss=7.558e+00, dis_loss=6.595e-02\n",
      "INFO: Iter 45200: gen_loss=7.345e+00, dis_loss=1.308e-01\n",
      "INFO: Iter 45300: gen_loss=7.911e+00, dis_loss=7.596e-02\n",
      "INFO: Iter 45400: gen_loss=8.209e+00, dis_loss=9.577e-02\n",
      "INFO: Iter 45500: gen_loss=7.844e+00, dis_loss=2.149e-01\n",
      "INFO: Iter 45600: gen_loss=6.889e+00, dis_loss=6.511e-02\n",
      "INFO: Iter 45700: gen_loss=8.495e+00, dis_loss=1.276e-01\n",
      "INFO: Iter 45800: gen_loss=7.691e+00, dis_loss=8.997e-02\n",
      "INFO: Iter 45900: gen_loss=7.475e+00, dis_loss=1.952e-01\n",
      "INFO: Iter 46000: gen_loss=7.331e+00, dis_loss=2.163e-01\n",
      "INFO: Iter 46100: gen_loss=7.208e+00, dis_loss=1.381e-01\n",
      "INFO: Iter 46200: gen_loss=7.803e+00, dis_loss=1.687e-01\n",
      "INFO: Iter 46300: gen_loss=7.667e+00, dis_loss=8.093e-02\n",
      "INFO: Iter 46400: gen_loss=7.001e+00, dis_loss=1.846e-01\n",
      "INFO: Iter 46500: gen_loss=6.935e+00, dis_loss=1.164e-01\n",
      "INFO: Iter 46600: gen_loss=7.884e+00, dis_loss=1.134e-01\n",
      "INFO: Iter 46700: gen_loss=8.209e+00, dis_loss=1.433e-01\n",
      "INFO: Iter 46800: gen_loss=7.123e+00, dis_loss=1.630e-01\n",
      "INFO: Iter 46900: gen_loss=7.443e+00, dis_loss=9.099e-02\n",
      "INFO: Iter 47000: gen_loss=7.313e+00, dis_loss=2.115e-01\n",
      "INFO: Iter 47100: gen_loss=7.380e+00, dis_loss=2.000e-01\n",
      "INFO: Iter 47200: gen_loss=8.124e+00, dis_loss=7.867e-02\n",
      "INFO: Iter 47300: gen_loss=7.687e+00, dis_loss=5.556e-02\n",
      "INFO: Iter 47400: gen_loss=7.591e+00, dis_loss=1.374e-01\n",
      "INFO: Iter 47500: gen_loss=6.867e+00, dis_loss=1.668e-01\n",
      "INFO: Iter 47600: gen_loss=7.650e+00, dis_loss=1.586e-01\n",
      "INFO: Iter 47700: gen_loss=8.021e+00, dis_loss=9.095e-02\n",
      "INFO: Iter 47800: gen_loss=6.939e+00, dis_loss=1.382e-01\n",
      "INFO: Iter 47900: gen_loss=6.803e+00, dis_loss=1.505e-01\n",
      "INFO: Iter 48000: gen_loss=7.517e+00, dis_loss=1.279e-01\n",
      "INFO: Iter 48100: gen_loss=8.138e+00, dis_loss=3.605e-02\n",
      "INFO: Iter 48200: gen_loss=9.435e+00, dis_loss=1.054e-01\n",
      "INFO: Iter 48300: gen_loss=7.575e+00, dis_loss=1.166e-01\n",
      "INFO: Iter 48400: gen_loss=7.609e+00, dis_loss=1.048e-01\n",
      "INFO: Iter 48500: gen_loss=7.012e+00, dis_loss=1.745e-01\n",
      "INFO: Iter 48600: gen_loss=7.619e+00, dis_loss=7.070e-02\n",
      "INFO: Iter 48700: gen_loss=8.686e+00, dis_loss=1.782e-02\n",
      "INFO: Iter 48800: gen_loss=8.019e+00, dis_loss=1.478e-01\n",
      "INFO: Iter 48900: gen_loss=7.361e+00, dis_loss=7.721e-02\n",
      "INFO: Iter 49000: gen_loss=8.423e+00, dis_loss=5.615e-02\n",
      "INFO: Iter 49100: gen_loss=9.862e+00, dis_loss=1.277e-01\n",
      "INFO: Iter 49200: gen_loss=8.567e+00, dis_loss=5.868e-02\n",
      "INFO: Iter 49300: gen_loss=7.656e+00, dis_loss=1.794e-01\n",
      "INFO: Iter 49400: gen_loss=7.174e+00, dis_loss=5.285e-02\n",
      "INFO: Iter 49500: gen_loss=7.750e+00, dis_loss=1.453e-01\n",
      "INFO: Iter 49600: gen_loss=8.486e+00, dis_loss=7.765e-02\n",
      "INFO: Iter 49700: gen_loss=8.726e+00, dis_loss=1.886e-01\n",
      "INFO: Iter 49800: gen_loss=6.495e+00, dis_loss=2.671e-01\n",
      "INFO: Iter 49900: gen_loss=6.096e+00, dis_loss=3.708e-02\n",
      "INFO: Iter 50000: gen_loss=7.278e+00, dis_loss=1.289e-01\n",
      "INFO: Iter 50100: gen_loss=8.292e+00, dis_loss=1.400e-01\n",
      "INFO: Iter 50200: gen_loss=7.083e+00, dis_loss=3.929e-02\n",
      "INFO: Iter 50300: gen_loss=8.708e+00, dis_loss=2.245e-01\n",
      "INFO: Iter 50400: gen_loss=6.778e+00, dis_loss=1.934e-01\n",
      "INFO: Iter 50500: gen_loss=6.966e+00, dis_loss=1.545e-01\n",
      "INFO: Iter 50600: gen_loss=7.511e+00, dis_loss=1.550e-01\n",
      "INFO: Iter 50700: gen_loss=6.592e+00, dis_loss=4.276e-02\n",
      "INFO: Iter 50800: gen_loss=7.686e+00, dis_loss=5.424e-02\n",
      "INFO: Iter 50900: gen_loss=8.487e+00, dis_loss=9.966e-02\n",
      "INFO: Iter 51000: gen_loss=7.435e+00, dis_loss=2.701e-01\n",
      "INFO: Iter 51100: gen_loss=6.508e+00, dis_loss=1.822e-01\n",
      "INFO: Iter 51200: gen_loss=7.382e+00, dis_loss=1.815e-01\n",
      "INFO: Iter 51300: gen_loss=8.079e+00, dis_loss=8.910e-02\n",
      "INFO: Iter 51400: gen_loss=8.078e+00, dis_loss=7.507e-02\n",
      "INFO: Iter 51500: gen_loss=8.922e+00, dis_loss=1.487e-02\n",
      "INFO: Iter 51600: gen_loss=8.115e+00, dis_loss=3.977e-02\n",
      "INFO: Iter 51700: gen_loss=8.748e+00, dis_loss=1.145e-01\n",
      "INFO: Iter 51800: gen_loss=6.589e+00, dis_loss=8.464e-02\n",
      "INFO: Iter 51900: gen_loss=6.888e+00, dis_loss=1.870e-01\n",
      "INFO: Iter 52000: gen_loss=6.189e+00, dis_loss=1.300e-01\n",
      "INFO: Iter 52100: gen_loss=7.492e+00, dis_loss=1.791e-01\n",
      "INFO: Iter 52200: gen_loss=7.780e+00, dis_loss=3.238e-02\n",
      "INFO: Iter 52300: gen_loss=8.651e+00, dis_loss=6.791e-02\n",
      "INFO: Iter 52400: gen_loss=8.551e+00, dis_loss=7.682e-02\n",
      "INFO: Iter 52500: gen_loss=7.542e+00, dis_loss=3.496e-01\n",
      "INFO: Iter 52600: gen_loss=7.139e+00, dis_loss=1.184e-01\n",
      "INFO: Iter 52700: gen_loss=6.193e+00, dis_loss=1.977e-01\n",
      "INFO: Iter 52800: gen_loss=7.366e+00, dis_loss=9.528e-02\n",
      "INFO: Iter 52900: gen_loss=8.460e+00, dis_loss=1.303e-01\n",
      "INFO: Iter 53000: gen_loss=7.030e+00, dis_loss=8.892e-02\n",
      "INFO: Iter 53100: gen_loss=7.689e+00, dis_loss=9.074e-02\n",
      "INFO: Iter 53200: gen_loss=7.806e+00, dis_loss=1.940e-01\n",
      "INFO: Iter 53300: gen_loss=7.103e+00, dis_loss=2.438e-01\n",
      "INFO: Iter 53400: gen_loss=7.010e+00, dis_loss=4.432e-02\n",
      "INFO: Iter 53500: gen_loss=7.329e+00, dis_loss=1.271e-01\n",
      "INFO: Iter 53600: gen_loss=8.115e+00, dis_loss=1.455e-01\n",
      "INFO: Iter 53700: gen_loss=7.864e+00, dis_loss=1.730e-01\n",
      "INFO: Iter 53800: gen_loss=7.958e+00, dis_loss=6.481e-02\n",
      "INFO: Iter 53900: gen_loss=7.417e+00, dis_loss=2.348e-01\n",
      "INFO: Iter 54000: gen_loss=7.905e+00, dis_loss=9.417e-02\n",
      "INFO: Iter 54100: gen_loss=7.771e+00, dis_loss=1.909e-02\n",
      "INFO: Iter 54200: gen_loss=8.100e+00, dis_loss=5.988e-02\n",
      "INFO: Iter 54300: gen_loss=8.951e+00, dis_loss=1.187e-01\n",
      "INFO: Iter 54400: gen_loss=8.747e+00, dis_loss=8.811e-02\n",
      "INFO: Iter 54500: gen_loss=9.111e+00, dis_loss=9.806e-02\n",
      "INFO: Iter 54600: gen_loss=7.880e+00, dis_loss=2.559e-01\n",
      "INFO: Iter 54700: gen_loss=6.113e+00, dis_loss=2.499e-01\n",
      "INFO: Iter 54800: gen_loss=6.785e+00, dis_loss=9.942e-02\n",
      "INFO: Iter 54900: gen_loss=7.897e+00, dis_loss=1.711e-01\n",
      "INFO: Iter 55000: gen_loss=7.827e+00, dis_loss=1.005e-01\n",
      "INFO: Iter 55100: gen_loss=7.237e+00, dis_loss=1.296e-01\n",
      "INFO: Iter 55200: gen_loss=7.719e+00, dis_loss=5.380e-02\n",
      "INFO: Iter 55300: gen_loss=7.279e+00, dis_loss=1.174e-01\n",
      "INFO: Iter 55400: gen_loss=7.805e+00, dis_loss=1.519e-01\n",
      "INFO: Iter 55500: gen_loss=5.992e+00, dis_loss=1.314e-02\n",
      "INFO: Iter 55600: gen_loss=7.919e+00, dis_loss=3.796e-02\n",
      "INFO: Iter 55700: gen_loss=8.752e+00, dis_loss=4.487e-03\n",
      "INFO: Iter 55800: gen_loss=7.490e+00, dis_loss=9.444e-03\n",
      "INFO: Iter 55900: gen_loss=8.375e+00, dis_loss=6.180e-02\n",
      "INFO: Iter 56000: gen_loss=8.054e+00, dis_loss=4.349e-02\n",
      "INFO: Iter 56100: gen_loss=8.374e+00, dis_loss=3.906e-02\n",
      "INFO: Iter 56200: gen_loss=1.001e+01, dis_loss=7.492e-02\n",
      "INFO: Iter 56300: gen_loss=9.402e+00, dis_loss=2.924e-02\n",
      "INFO: Iter 56400: gen_loss=7.886e+00, dis_loss=2.706e-01\n",
      "INFO: Iter 56500: gen_loss=6.457e+00, dis_loss=1.482e-01\n",
      "INFO: Iter 56600: gen_loss=7.962e+00, dis_loss=6.791e-02\n",
      "INFO: Iter 56700: gen_loss=7.347e+00, dis_loss=2.660e-01\n",
      "INFO: Iter 56800: gen_loss=6.669e+00, dis_loss=1.303e-01\n",
      "INFO: Iter 56900: gen_loss=7.553e+00, dis_loss=1.629e-01\n",
      "INFO: Iter 57000: gen_loss=7.038e+00, dis_loss=1.491e-01\n",
      "INFO: Iter 57100: gen_loss=8.163e+00, dis_loss=9.368e-02\n",
      "INFO: Iter 57200: gen_loss=7.225e+00, dis_loss=1.621e-01\n",
      "INFO: Iter 57300: gen_loss=7.202e+00, dis_loss=1.265e-01\n",
      "INFO: Iter 57400: gen_loss=9.157e+00, dis_loss=9.248e-02\n",
      "INFO: Iter 57500: gen_loss=9.259e+00, dis_loss=6.507e-02\n",
      "INFO: Iter 57600: gen_loss=8.861e+00, dis_loss=9.143e-02\n",
      "INFO: Iter 57700: gen_loss=8.028e+00, dis_loss=1.365e-01\n",
      "INFO: Iter 57800: gen_loss=7.415e+00, dis_loss=3.944e-02\n",
      "INFO: Iter 57900: gen_loss=7.558e+00, dis_loss=2.236e-01\n",
      "INFO: Iter 58000: gen_loss=6.766e+00, dis_loss=1.265e-01\n",
      "INFO: Iter 58100: gen_loss=6.974e+00, dis_loss=1.086e-01\n",
      "INFO: Iter 58200: gen_loss=8.044e+00, dis_loss=5.839e-02\n",
      "INFO: Iter 58300: gen_loss=8.983e+00, dis_loss=1.233e-01\n",
      "INFO: Iter 58400: gen_loss=7.975e+00, dis_loss=1.663e-01\n",
      "INFO: Iter 58500: gen_loss=8.939e+00, dis_loss=4.078e-02\n",
      "INFO: Iter 58600: gen_loss=8.757e+00, dis_loss=1.298e-01\n",
      "INFO: Iter 58700: gen_loss=8.510e+00, dis_loss=4.822e-02\n",
      "INFO: Iter 58800: gen_loss=7.218e+00, dis_loss=1.152e-02\n",
      "INFO: Iter 58900: gen_loss=7.819e+00, dis_loss=8.921e-02\n",
      "INFO: Iter 59000: gen_loss=7.045e+00, dis_loss=2.177e-01\n",
      "INFO: Iter 59100: gen_loss=6.251e+00, dis_loss=2.607e-01\n",
      "INFO: Iter 59200: gen_loss=7.005e+00, dis_loss=1.200e-01\n",
      "INFO: Iter 59300: gen_loss=7.005e+00, dis_loss=1.004e-01\n",
      "INFO: Iter 59400: gen_loss=8.861e+00, dis_loss=5.219e-02\n",
      "INFO: Iter 59500: gen_loss=6.960e+00, dis_loss=2.586e-01\n",
      "INFO: Iter 59600: gen_loss=6.803e+00, dis_loss=7.722e-02\n",
      "INFO: Iter 59700: gen_loss=6.364e+00, dis_loss=1.306e-01\n",
      "INFO: Iter 59800: gen_loss=7.132e+00, dis_loss=1.002e-01\n",
      "INFO: Iter 59900: gen_loss=7.765e+00, dis_loss=2.016e-01\n",
      "INFO: Iter 60000: gen_loss=8.341e+00, dis_loss=2.221e-02\n",
      "INFO: Iter 60100: gen_loss=8.270e+00, dis_loss=1.215e-01\n",
      "INFO: Iter 60200: gen_loss=8.351e+00, dis_loss=7.957e-02\n",
      "INFO: Iter 60300: gen_loss=8.146e+00, dis_loss=1.746e-01\n",
      "INFO: Iter 60400: gen_loss=7.097e+00, dis_loss=6.263e-02\n",
      "INFO: Iter 60500: gen_loss=8.003e+00, dis_loss=1.094e-01\n",
      "INFO: Iter 60600: gen_loss=9.017e+00, dis_loss=6.662e-02\n",
      "INFO: Iter 60700: gen_loss=8.417e+00, dis_loss=4.822e-02\n",
      "INFO: Iter 60800: gen_loss=8.024e+00, dis_loss=5.958e-02\n",
      "INFO: Iter 60900: gen_loss=8.309e+00, dis_loss=1.776e-01\n",
      "INFO: Iter 61000: gen_loss=8.335e+00, dis_loss=4.399e-02\n",
      "INFO: Iter 61100: gen_loss=7.384e+00, dis_loss=1.458e-01\n",
      "INFO: Iter 61200: gen_loss=8.612e+00, dis_loss=8.996e-02\n",
      "INFO: Iter 61300: gen_loss=7.137e+00, dis_loss=6.772e-02\n",
      "INFO: Iter 61400: gen_loss=8.546e+00, dis_loss=1.129e-01\n",
      "INFO: Iter 61500: gen_loss=7.253e+00, dis_loss=4.459e-02\n",
      "INFO: Iter 61600: gen_loss=8.086e+00, dis_loss=4.363e-02\n",
      "INFO: Iter 61700: gen_loss=8.159e+00, dis_loss=8.890e-02\n",
      "INFO: Iter 61800: gen_loss=8.605e+00, dis_loss=5.101e-02\n",
      "INFO: Iter 61900: gen_loss=8.271e+00, dis_loss=4.426e-02\n",
      "INFO: Iter 62000: gen_loss=8.557e+00, dis_loss=1.276e-01\n",
      "INFO: Iter 62100: gen_loss=8.113e+00, dis_loss=2.410e-02\n",
      "INFO: Iter 62200: gen_loss=8.707e+00, dis_loss=5.297e-02\n",
      "INFO: Iter 62300: gen_loss=8.144e+00, dis_loss=1.186e-01\n",
      "INFO: Iter 62400: gen_loss=8.680e+00, dis_loss=1.309e-01\n",
      "INFO: Iter 62500: gen_loss=7.880e+00, dis_loss=8.983e-02\n",
      "INFO: Iter 62600: gen_loss=8.801e+00, dis_loss=2.107e-02\n",
      "INFO: Iter 62700: gen_loss=9.492e+00, dis_loss=1.756e-02\n",
      "INFO: Iter 62800: gen_loss=8.750e+00, dis_loss=1.086e-01\n",
      "INFO: Iter 62900: gen_loss=9.319e+00, dis_loss=5.530e-02\n",
      "INFO: Iter 63000: gen_loss=8.095e+00, dis_loss=6.879e-02\n",
      "INFO: Iter 63100: gen_loss=9.837e+00, dis_loss=1.586e-01\n",
      "INFO: Iter 63200: gen_loss=8.948e+00, dis_loss=1.720e-02\n",
      "INFO: Iter 63300: gen_loss=8.296e+00, dis_loss=3.972e-02\n",
      "INFO: Iter 63400: gen_loss=8.357e+00, dis_loss=4.211e-02\n",
      "INFO: Iter 63500: gen_loss=8.781e+00, dis_loss=7.087e-02\n",
      "INFO: Iter 63600: gen_loss=9.013e+00, dis_loss=1.486e-01\n",
      "INFO: Iter 63700: gen_loss=8.100e+00, dis_loss=1.100e-01\n",
      "INFO: Iter 63800: gen_loss=8.422e+00, dis_loss=6.210e-02\n",
      "INFO: Iter 63900: gen_loss=8.982e+00, dis_loss=1.478e-01\n",
      "INFO: Iter 64000: gen_loss=7.989e+00, dis_loss=1.162e-01\n",
      "INFO: Iter 64100: gen_loss=7.762e+00, dis_loss=1.363e-01\n",
      "INFO: Iter 64200: gen_loss=8.369e+00, dis_loss=2.022e-01\n",
      "INFO: Iter 64300: gen_loss=6.975e+00, dis_loss=3.198e-01\n",
      "INFO: Iter 64400: gen_loss=7.298e+00, dis_loss=1.063e-01\n",
      "INFO: Iter 64500: gen_loss=7.863e+00, dis_loss=1.200e-01\n",
      "INFO: Iter 64600: gen_loss=8.850e+00, dis_loss=1.042e-01\n",
      "INFO: Iter 64700: gen_loss=7.946e+00, dis_loss=1.286e-01\n",
      "INFO: Iter 64800: gen_loss=7.980e+00, dis_loss=1.075e-01\n",
      "INFO: Iter 64900: gen_loss=8.632e+00, dis_loss=1.190e-01\n",
      "INFO: Iter 65000: gen_loss=8.699e+00, dis_loss=1.176e-01\n",
      "INFO: Iter 65100: gen_loss=8.522e+00, dis_loss=3.614e-02\n",
      "INFO: Iter 65200: gen_loss=8.871e+00, dis_loss=9.508e-02\n",
      "INFO: Iter 65300: gen_loss=7.980e+00, dis_loss=2.228e-02\n",
      "INFO: Iter 65400: gen_loss=7.835e+00, dis_loss=1.799e-01\n",
      "INFO: Iter 65500: gen_loss=7.865e+00, dis_loss=1.264e-01\n",
      "INFO: Iter 65600: gen_loss=7.398e+00, dis_loss=5.165e-02\n",
      "INFO: Iter 65700: gen_loss=8.280e+00, dis_loss=1.918e-01\n",
      "INFO: Iter 65800: gen_loss=8.167e+00, dis_loss=5.632e-02\n",
      "INFO: Iter 65900: gen_loss=8.538e+00, dis_loss=5.851e-02\n",
      "INFO: Iter 66000: gen_loss=9.070e+00, dis_loss=7.255e-02\n",
      "INFO: Iter 66100: gen_loss=6.966e+00, dis_loss=1.136e-01\n",
      "INFO: Iter 66200: gen_loss=8.442e+00, dis_loss=7.192e-02\n",
      "INFO: Iter 66300: gen_loss=7.684e+00, dis_loss=1.763e-01\n",
      "INFO: Iter 66400: gen_loss=8.376e+00, dis_loss=4.574e-02\n",
      "INFO: Iter 66500: gen_loss=7.754e+00, dis_loss=1.817e-01\n",
      "INFO: Iter 66600: gen_loss=7.706e+00, dis_loss=1.351e-01\n",
      "INFO: Iter 66700: gen_loss=8.538e+00, dis_loss=4.162e-02\n",
      "INFO: Iter 66800: gen_loss=8.782e+00, dis_loss=8.466e-03\n",
      "INFO: Iter 66900: gen_loss=7.442e+00, dis_loss=1.007e-01\n",
      "INFO: Iter 67000: gen_loss=7.395e+00, dis_loss=1.118e-01\n",
      "INFO: Iter 67100: gen_loss=7.402e+00, dis_loss=1.057e-01\n",
      "INFO: Iter 67200: gen_loss=8.862e+00, dis_loss=2.585e-02\n",
      "INFO: Iter 67300: gen_loss=9.871e+00, dis_loss=7.541e-02\n",
      "INFO: Iter 67400: gen_loss=8.203e+00, dis_loss=1.360e-01\n",
      "INFO: Iter 67500: gen_loss=6.977e+00, dis_loss=6.864e-02\n",
      "INFO: Iter 67600: gen_loss=8.192e+00, dis_loss=4.921e-02\n",
      "INFO: Iter 67700: gen_loss=7.732e+00, dis_loss=5.213e-02\n",
      "INFO: Iter 67800: gen_loss=8.069e+00, dis_loss=1.839e-01\n",
      "INFO: Iter 67900: gen_loss=7.806e+00, dis_loss=2.751e-01\n",
      "INFO: Iter 68000: gen_loss=6.896e+00, dis_loss=1.381e-01\n",
      "INFO: Iter 68100: gen_loss=7.784e+00, dis_loss=1.312e-01\n",
      "INFO: Iter 68200: gen_loss=6.990e+00, dis_loss=2.099e-01\n",
      "INFO: Iter 68300: gen_loss=6.299e+00, dis_loss=7.907e-02\n",
      "INFO: Iter 68400: gen_loss=6.665e+00, dis_loss=1.311e-01\n",
      "INFO: Iter 68500: gen_loss=7.814e+00, dis_loss=3.975e-02\n",
      "INFO: Iter 68600: gen_loss=7.867e+00, dis_loss=1.398e-01\n",
      "INFO: Iter 68700: gen_loss=7.946e+00, dis_loss=1.062e-01\n",
      "INFO: Iter 68800: gen_loss=7.673e+00, dis_loss=1.228e-01\n",
      "INFO: Iter 68900: gen_loss=7.155e+00, dis_loss=1.663e-01\n",
      "INFO: Iter 69000: gen_loss=7.441e+00, dis_loss=9.670e-02\n",
      "INFO: Iter 69100: gen_loss=7.339e+00, dis_loss=9.394e-02\n",
      "INFO: Iter 69200: gen_loss=8.140e+00, dis_loss=1.025e-01\n",
      "INFO: Iter 69300: gen_loss=7.713e+00, dis_loss=3.666e-02\n",
      "INFO: Iter 69400: gen_loss=7.539e+00, dis_loss=1.932e-01\n",
      "INFO: Iter 69500: gen_loss=7.037e+00, dis_loss=1.066e-01\n",
      "INFO: Iter 69600: gen_loss=8.103e+00, dis_loss=6.640e-02\n",
      "INFO: Iter 69700: gen_loss=7.734e+00, dis_loss=4.281e-02\n",
      "INFO: Iter 69800: gen_loss=8.847e+00, dis_loss=6.305e-02\n",
      "INFO: Iter 69900: gen_loss=8.925e+00, dis_loss=1.017e-01\n",
      "INFO: Iter 70000: gen_loss=7.715e+00, dis_loss=5.939e-02\n",
      "INFO: Iter 70100: gen_loss=7.697e+00, dis_loss=8.371e-02\n",
      "INFO: Iter 70200: gen_loss=8.938e+00, dis_loss=1.117e-01\n",
      "INFO: Iter 70300: gen_loss=7.426e+00, dis_loss=6.462e-03\n",
      "INFO: Iter 70400: gen_loss=8.112e+00, dis_loss=9.931e-02\n",
      "INFO: Iter 70500: gen_loss=8.197e+00, dis_loss=1.281e-02\n",
      "INFO: Iter 70600: gen_loss=8.858e+00, dis_loss=1.385e-02\n",
      "INFO: Iter 70700: gen_loss=8.959e+00, dis_loss=1.675e-02\n",
      "INFO: Iter 70800: gen_loss=8.900e+00, dis_loss=1.176e-01\n",
      "INFO: Iter 70900: gen_loss=6.506e+00, dis_loss=2.642e-02\n",
      "INFO: Iter 71000: gen_loss=7.131e+00, dis_loss=2.274e-01\n",
      "INFO: Iter 71100: gen_loss=5.774e+00, dis_loss=1.216e-01\n",
      "INFO: Iter 71200: gen_loss=7.582e+00, dis_loss=7.890e-02\n",
      "INFO: Iter 71300: gen_loss=9.352e+00, dis_loss=3.001e-02\n",
      "INFO: Iter 71400: gen_loss=7.720e+00, dis_loss=1.043e-01\n",
      "INFO: Iter 71500: gen_loss=7.433e+00, dis_loss=2.066e-01\n",
      "INFO: Iter 71600: gen_loss=8.307e+00, dis_loss=1.316e-01\n",
      "INFO: Iter 71700: gen_loss=8.163e+00, dis_loss=7.415e-02\n",
      "INFO: Iter 71800: gen_loss=8.686e+00, dis_loss=4.526e-02\n",
      "INFO: Iter 71900: gen_loss=8.526e+00, dis_loss=5.101e-02\n",
      "INFO: Iter 72000: gen_loss=6.216e+00, dis_loss=1.801e-01\n",
      "INFO: Iter 72100: gen_loss=8.248e+00, dis_loss=1.968e-02\n",
      "INFO: Iter 72200: gen_loss=8.590e+00, dis_loss=1.397e-01\n",
      "INFO: Iter 72300: gen_loss=7.945e+00, dis_loss=1.545e-01\n",
      "INFO: Iter 72400: gen_loss=7.683e+00, dis_loss=6.151e-02\n",
      "INFO: Iter 72500: gen_loss=7.918e+00, dis_loss=5.762e-02\n",
      "INFO: Iter 72600: gen_loss=8.461e+00, dis_loss=1.041e-01\n",
      "INFO: Iter 72700: gen_loss=8.502e+00, dis_loss=9.651e-02\n",
      "INFO: Iter 72800: gen_loss=8.700e+00, dis_loss=1.224e-01\n",
      "INFO: Iter 72900: gen_loss=7.591e+00, dis_loss=2.385e-02\n",
      "INFO: Iter 73000: gen_loss=6.955e+00, dis_loss=1.299e-01\n",
      "INFO: Iter 73100: gen_loss=8.165e+00, dis_loss=1.046e-01\n",
      "INFO: Iter 73200: gen_loss=9.461e+00, dis_loss=1.332e-01\n",
      "INFO: Iter 73300: gen_loss=7.505e+00, dis_loss=1.048e-01\n",
      "INFO: Iter 73400: gen_loss=7.483e+00, dis_loss=2.954e-02\n",
      "INFO: Iter 73500: gen_loss=7.912e+00, dis_loss=2.294e-02\n",
      "INFO: Iter 73600: gen_loss=8.447e+00, dis_loss=4.784e-02\n",
      "INFO: Iter 73700: gen_loss=9.073e+00, dis_loss=9.857e-03\n",
      "INFO: Iter 73800: gen_loss=7.613e+00, dis_loss=1.917e-01\n",
      "INFO: Iter 73900: gen_loss=7.809e+00, dis_loss=6.372e-02\n",
      "INFO: Iter 74000: gen_loss=8.085e+00, dis_loss=1.651e-02\n",
      "INFO: Iter 74100: gen_loss=8.583e+00, dis_loss=6.156e-02\n",
      "INFO: Iter 74200: gen_loss=9.044e+00, dis_loss=2.078e-01\n",
      "INFO: Iter 74300: gen_loss=8.205e+00, dis_loss=5.955e-02\n",
      "INFO: Iter 74400: gen_loss=7.361e+00, dis_loss=2.868e-02\n",
      "INFO: Iter 74500: gen_loss=7.276e+00, dis_loss=2.237e-01\n",
      "INFO: Iter 74600: gen_loss=7.651e+00, dis_loss=1.706e-01\n",
      "INFO: Iter 74700: gen_loss=7.655e+00, dis_loss=7.078e-02\n",
      "INFO: Iter 74800: gen_loss=8.212e+00, dis_loss=1.964e-01\n",
      "INFO: Iter 74900: gen_loss=6.460e+00, dis_loss=5.463e-02\n",
      "INFO: Iter 75000: gen_loss=7.565e+00, dis_loss=1.036e-01\n",
      "INFO: Iter 75100: gen_loss=8.300e+00, dis_loss=8.956e-02\n",
      "INFO: Iter 75200: gen_loss=8.340e+00, dis_loss=1.229e-01\n",
      "INFO: Iter 75300: gen_loss=7.329e+00, dis_loss=6.222e-02\n",
      "INFO: Iter 75400: gen_loss=8.292e+00, dis_loss=1.088e-01\n",
      "INFO: Iter 75500: gen_loss=8.946e+00, dis_loss=6.084e-02\n",
      "INFO: Iter 75600: gen_loss=8.110e+00, dis_loss=1.961e-01\n",
      "INFO: Iter 75700: gen_loss=8.795e+00, dis_loss=5.749e-02\n",
      "INFO: Iter 75800: gen_loss=9.106e+00, dis_loss=6.828e-02\n",
      "INFO: Iter 75900: gen_loss=9.546e+00, dis_loss=9.933e-02\n",
      "INFO: Iter 76000: gen_loss=8.914e+00, dis_loss=1.017e-01\n",
      "INFO: Iter 76100: gen_loss=8.171e+00, dis_loss=1.432e-01\n",
      "INFO: Iter 76200: gen_loss=8.814e+00, dis_loss=9.954e-02\n",
      "INFO: Iter 76300: gen_loss=8.099e+00, dis_loss=1.301e-01\n",
      "INFO: Iter 76400: gen_loss=8.419e+00, dis_loss=6.985e-02\n",
      "INFO: Iter 76500: gen_loss=8.625e+00, dis_loss=7.309e-02\n",
      "INFO: Iter 76600: gen_loss=9.462e+00, dis_loss=6.651e-02\n",
      "INFO: Iter 76700: gen_loss=8.796e+00, dis_loss=2.456e-02\n",
      "INFO: Iter 76800: gen_loss=8.512e+00, dis_loss=6.546e-02\n",
      "INFO: Iter 76900: gen_loss=9.545e+00, dis_loss=2.277e-02\n",
      "INFO: Iter 77000: gen_loss=1.019e+01, dis_loss=6.078e-02\n",
      "INFO: Iter 77100: gen_loss=8.970e+00, dis_loss=6.929e-02\n",
      "INFO: Iter 77200: gen_loss=9.308e+00, dis_loss=4.379e-02\n",
      "INFO: Iter 77300: gen_loss=8.840e+00, dis_loss=6.901e-02\n",
      "INFO: Iter 77400: gen_loss=8.989e+00, dis_loss=8.156e-02\n",
      "INFO: Iter 77500: gen_loss=7.943e+00, dis_loss=1.703e-01\n",
      "INFO: Iter 77600: gen_loss=7.691e+00, dis_loss=9.083e-02\n",
      "INFO: Iter 77700: gen_loss=6.877e+00, dis_loss=1.615e-01\n",
      "INFO: Iter 77800: gen_loss=8.802e+00, dis_loss=2.552e-02\n",
      "INFO: Iter 77900: gen_loss=8.168e+00, dis_loss=9.500e-03\n",
      "INFO: Iter 78000: gen_loss=8.512e+00, dis_loss=1.631e-01\n",
      "INFO: Iter 78100: gen_loss=9.085e+00, dis_loss=1.045e-01\n",
      "INFO: Iter 78200: gen_loss=8.978e+00, dis_loss=1.803e-02\n",
      "INFO: Iter 78300: gen_loss=7.147e+00, dis_loss=8.981e-02\n",
      "INFO: Iter 78400: gen_loss=8.971e+00, dis_loss=6.581e-02\n",
      "INFO: Iter 78500: gen_loss=9.141e+00, dis_loss=6.799e-02\n",
      "INFO: Iter 78600: gen_loss=7.606e+00, dis_loss=1.170e-01\n",
      "INFO: Iter 78700: gen_loss=9.400e+00, dis_loss=2.605e-02\n",
      "INFO: Iter 78800: gen_loss=7.209e+00, dis_loss=1.970e-01\n",
      "INFO: Iter 78900: gen_loss=6.687e+00, dis_loss=1.322e-01\n",
      "INFO: Iter 79000: gen_loss=7.925e+00, dis_loss=1.402e-01\n",
      "INFO: Iter 79100: gen_loss=8.204e+00, dis_loss=5.539e-02\n",
      "INFO: Iter 79200: gen_loss=8.598e+00, dis_loss=1.871e-02\n",
      "INFO: Iter 79300: gen_loss=7.901e+00, dis_loss=1.780e-01\n",
      "INFO: Iter 79400: gen_loss=8.110e+00, dis_loss=6.319e-02\n",
      "INFO: Iter 79500: gen_loss=9.470e+00, dis_loss=2.551e-02\n",
      "INFO: Iter 79600: gen_loss=9.358e+00, dis_loss=1.883e-02\n",
      "INFO: Iter 79700: gen_loss=8.690e+00, dis_loss=2.171e-01\n",
      "INFO: Iter 79800: gen_loss=7.944e+00, dis_loss=1.111e-01\n",
      "INFO: Iter 79900: gen_loss=7.439e+00, dis_loss=5.868e-02\n",
      "INFO: Iter 80000: gen_loss=8.651e+00, dis_loss=3.943e-02\n",
      "INFO: Iter 80100: gen_loss=8.592e+00, dis_loss=8.945e-03\n",
      "INFO: Iter 80200: gen_loss=8.253e+00, dis_loss=6.034e-02\n",
      "INFO: Iter 80300: gen_loss=8.047e+00, dis_loss=1.019e-01\n",
      "INFO: Iter 80400: gen_loss=9.862e+00, dis_loss=4.546e-02\n",
      "INFO: Iter 80500: gen_loss=7.347e+00, dis_loss=1.047e-01\n",
      "INFO: Iter 80600: gen_loss=7.407e+00, dis_loss=2.568e-01\n",
      "INFO: Iter 80700: gen_loss=7.589e+00, dis_loss=1.956e-01\n",
      "INFO: Iter 80800: gen_loss=7.333e+00, dis_loss=2.612e-02\n",
      "INFO: Iter 80900: gen_loss=7.898e+00, dis_loss=1.857e-01\n",
      "INFO: Iter 81000: gen_loss=7.212e+00, dis_loss=1.246e-01\n",
      "INFO: Iter 81100: gen_loss=8.482e+00, dis_loss=4.332e-02\n",
      "INFO: Iter 81200: gen_loss=9.292e+00, dis_loss=2.266e-02\n",
      "INFO: Iter 81300: gen_loss=8.736e+00, dis_loss=1.094e-01\n",
      "INFO: Iter 81400: gen_loss=6.987e+00, dis_loss=1.412e-01\n",
      "INFO: Iter 81500: gen_loss=8.420e+00, dis_loss=6.777e-02\n",
      "INFO: Iter 81600: gen_loss=8.950e+00, dis_loss=8.791e-02\n",
      "INFO: Iter 81700: gen_loss=9.166e+00, dis_loss=2.599e-02\n"
     ]
    },
    {
     "ename": "KeyboardInterrupt",
     "evalue": "",
     "output_type": "error",
     "traceback": [
      "\u001b[0;31m---------------------------------------------------------------------------\u001b[0m",
      "\u001b[0;31mKeyboardInterrupt\u001b[0m                         Traceback (most recent call last)",
      "\u001b[0;32m/tmp/ipykernel_33106/1817828974.py\u001b[0m in \u001b[0;36m<module>\u001b[0;34m\u001b[0m\n\u001b[1;32m     42\u001b[0m     \u001b[0mdis_loss\u001b[0m\u001b[0;34m.\u001b[0m\u001b[0mbackward\u001b[0m\u001b[0;34m(\u001b[0m\u001b[0;34m)\u001b[0m\u001b[0;34m\u001b[0m\u001b[0;34m\u001b[0m\u001b[0m\n\u001b[1;32m     43\u001b[0m     \u001b[0mdis_optimizer\u001b[0m\u001b[0;34m.\u001b[0m\u001b[0mstep\u001b[0m\u001b[0;34m(\u001b[0m\u001b[0;34m)\u001b[0m\u001b[0;34m\u001b[0m\u001b[0;34m\u001b[0m\u001b[0m\n\u001b[0;32m---> 44\u001b[0;31m     \u001b[0mdis_losses\u001b[0m\u001b[0;34m.\u001b[0m\u001b[0mappend\u001b[0m\u001b[0;34m(\u001b[0m\u001b[0mdis_loss\u001b[0m\u001b[0;34m.\u001b[0m\u001b[0mitem\u001b[0m\u001b[0;34m(\u001b[0m\u001b[0;34m)\u001b[0m\u001b[0;34m)\u001b[0m\u001b[0;34m\u001b[0m\u001b[0;34m\u001b[0m\u001b[0m\n\u001b[0m\u001b[1;32m     45\u001b[0m \u001b[0;34m\u001b[0m\u001b[0m\n\u001b[1;32m     46\u001b[0m     \u001b[0;31m# train generator\u001b[0m\u001b[0;34m\u001b[0m\u001b[0;34m\u001b[0m\u001b[0;34m\u001b[0m\u001b[0m\n",
      "\u001b[0;31mKeyboardInterrupt\u001b[0m: "
     ]
    }
   ],
   "source": [
    "device = torch.device(\"cuda\" if torch.cuda.is_available() else \"cpu\")\n",
    "envs = [\n",
    "    InputWrapper(gym.make(name))\n",
    "    for name in ('Breakout-v0', 'AirRaid-v0', 'Pong-v0')\n",
    "]\n",
    "input_shape = envs[0].observation_space.shape\n",
    "\n",
    "net_discr = Discriminator(input_shape=input_shape).to(device)\n",
    "net_gener = Generator(output_shape=input_shape).to(device)\n",
    "\n",
    "objective = nn.BCELoss()\n",
    "gen_optimizer = optim.Adam(\n",
    "    params=net_gener.parameters(), lr=LEARNING_RATE,\n",
    "    betas=(0.5, 0.999))\n",
    "dis_optimizer = optim.Adam(\n",
    "    params=net_discr.parameters(), lr=LEARNING_RATE,\n",
    "    betas=(0.5, 0.999))\n",
    "writer = SummaryWriter()\n",
    "\n",
    "gen_losses = []\n",
    "dis_losses = []\n",
    "iter_no = 0\n",
    "\n",
    "true_labels_v = torch.ones(BATCH_SIZE, device=device)\n",
    "fake_labels_v = torch.zeros(BATCH_SIZE, device=device)\n",
    "\n",
    "for batch_v in iterate_batches(envs):\n",
    "    # fake samples, input is 4D: batch, filters, x, y\n",
    "    gen_input_v = torch.FloatTensor(\n",
    "        BATCH_SIZE, LATENT_VECTOR_SIZE, 1, 1)\n",
    "    gen_input_v.normal_(0, 1)\n",
    "    gen_input_v = gen_input_v.to(device)\n",
    "    batch_v = batch_v.to(device)\n",
    "    gen_output_v = net_gener(gen_input_v)\n",
    "\n",
    "    # train discriminator\n",
    "    dis_optimizer.zero_grad()\n",
    "    dis_output_true_v = net_discr(batch_v)\n",
    "    dis_output_fake_v = net_discr(gen_output_v.detach())\n",
    "    dis_loss = objective(dis_output_true_v, true_labels_v) + \\\n",
    "                objective(dis_output_fake_v, fake_labels_v)\n",
    "    dis_loss.backward()\n",
    "    dis_optimizer.step()\n",
    "    dis_losses.append(dis_loss.item())\n",
    "\n",
    "    # train generator\n",
    "    gen_optimizer.zero_grad()\n",
    "    dis_output_v = net_discr(gen_output_v)\n",
    "    gen_loss_v = objective(dis_output_v, true_labels_v)\n",
    "    gen_loss_v.backward()\n",
    "    gen_optimizer.step()\n",
    "    gen_losses.append(gen_loss_v.item())\n",
    "\n",
    "    iter_no += 1\n",
    "    if iter_no % REPORT_EVERY_ITER == 0:\n",
    "        log.info(\"Iter %d: gen_loss=%.3e, dis_loss=%.3e\",\n",
    "                    iter_no, np.mean(gen_losses),\n",
    "                    np.mean(dis_losses))\n",
    "        writer.add_scalar(\n",
    "            \"gen_loss\", np.mean(gen_losses), iter_no)\n",
    "        writer.add_scalar(\n",
    "            \"dis_loss\", np.mean(dis_losses), iter_no)\n",
    "        gen_losses = []\n",
    "        dis_losses = []\n",
    "    if iter_no % SAVE_IMAGE_EVERY_ITER == 0:\n",
    "        writer.add_image(\"fake\", vutils.make_grid(\n",
    "            gen_output_v.data[:64], normalize=True), iter_no)\n",
    "        writer.add_image(\"real\", vutils.make_grid(\n",
    "            batch_v.data[:64], normalize=True), iter_no)"
   ]
  },
  {
   "cell_type": "code",
   "execution_count": null,
   "metadata": {},
   "outputs": [],
   "source": []
  }
 ],
 "metadata": {
  "interpreter": {
   "hash": "840b33d06dad15330bd2ef19768664747fbb3a678b7c2dc850353c9c723e0d14"
  },
  "kernelspec": {
   "display_name": "Python 3.7.12 ('rlbook')",
   "language": "python",
   "name": "python3"
  },
  "language_info": {
   "codemirror_mode": {
    "name": "ipython",
    "version": 3
   },
   "file_extension": ".py",
   "mimetype": "text/x-python",
   "name": "python",
   "nbconvert_exporter": "python",
   "pygments_lexer": "ipython3",
   "version": "3.7.12"
  },
  "orig_nbformat": 4
 },
 "nbformat": 4,
 "nbformat_minor": 2
}
